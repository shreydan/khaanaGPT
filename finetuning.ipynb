{
 "cells": [
  {
   "cell_type": "code",
   "execution_count": 1,
   "id": "8f079163",
   "metadata": {
    "_cell_guid": "b1076dfc-b9ad-4769-8c92-a6c4dae69d19",
    "_uuid": "8f2839f25d086af736a60e9eeb907d3b93b6e0e5",
    "execution": {
     "iopub.execute_input": "2023-02-17T13:33:47.715192Z",
     "iopub.status.busy": "2023-02-17T13:33:47.714740Z",
     "iopub.status.idle": "2023-02-17T13:33:57.255131Z",
     "shell.execute_reply": "2023-02-17T13:33:57.254011Z"
    },
    "papermill": {
     "duration": 9.551122,
     "end_time": "2023-02-17T13:33:57.257793",
     "exception": false,
     "start_time": "2023-02-17T13:33:47.706671",
     "status": "completed"
    },
    "tags": []
   },
   "outputs": [],
   "source": [
    "import torch\n",
    "import torch.nn as nn\n",
    "from transformers import GPT2TokenizerFast, GPT2LMHeadModel\n",
    "\n",
    "from transformers import Trainer, TrainingArguments\n",
    "\n",
    "from tqdm.auto import tqdm\n",
    "\n",
    "import pandas as pd\n",
    "import numpy as np\n"
   ]
  },
  {
   "cell_type": "code",
   "execution_count": 2,
   "id": "6be05272",
   "metadata": {
    "execution": {
     "iopub.execute_input": "2023-02-17T13:33:57.272785Z",
     "iopub.status.busy": "2023-02-17T13:33:57.271449Z",
     "iopub.status.idle": "2023-02-17T13:33:57.277196Z",
     "shell.execute_reply": "2023-02-17T13:33:57.276267Z"
    },
    "papermill": {
     "duration": 0.015274,
     "end_time": "2023-02-17T13:33:57.279378",
     "exception": false,
     "start_time": "2023-02-17T13:33:57.264104",
     "status": "completed"
    },
    "tags": []
   },
   "outputs": [],
   "source": [
    "model_name = 'gpt2'"
   ]
  },
  {
   "cell_type": "code",
   "execution_count": 3,
   "id": "ff7582eb",
   "metadata": {
    "execution": {
     "iopub.execute_input": "2023-02-17T13:33:57.292669Z",
     "iopub.status.busy": "2023-02-17T13:33:57.291985Z",
     "iopub.status.idle": "2023-02-17T13:33:57.296657Z",
     "shell.execute_reply": "2023-02-17T13:33:57.295744Z"
    },
    "papermill": {
     "duration": 0.013451,
     "end_time": "2023-02-17T13:33:57.298666",
     "exception": false,
     "start_time": "2023-02-17T13:33:57.285215",
     "status": "completed"
    },
    "tags": []
   },
   "outputs": [],
   "source": [
    "model_save_path = './khaanaGPT'"
   ]
  },
  {
   "cell_type": "code",
   "execution_count": 4,
   "id": "70b82f57",
   "metadata": {
    "execution": {
     "iopub.execute_input": "2023-02-17T13:33:57.311888Z",
     "iopub.status.busy": "2023-02-17T13:33:57.311026Z",
     "iopub.status.idle": "2023-02-17T13:34:24.634146Z",
     "shell.execute_reply": "2023-02-17T13:34:24.633132Z"
    },
    "papermill": {
     "duration": 27.331954,
     "end_time": "2023-02-17T13:34:24.636496",
     "exception": false,
     "start_time": "2023-02-17T13:33:57.304542",
     "status": "completed"
    },
    "tags": []
   },
   "outputs": [
    {
     "data": {
      "application/vnd.jupyter.widget-view+json": {
       "model_id": "18115bae7cdc463b9b7bd2bdb885faa1",
       "version_major": 2,
       "version_minor": 0
      },
      "text/plain": [
       "Downloading:   0%|          | 0.00/0.99M [00:00<?, ?B/s]"
      ]
     },
     "metadata": {},
     "output_type": "display_data"
    },
    {
     "data": {
      "application/vnd.jupyter.widget-view+json": {
       "model_id": "c8559d87433c47409370c07201e86de8",
       "version_major": 2,
       "version_minor": 0
      },
      "text/plain": [
       "Downloading:   0%|          | 0.00/446k [00:00<?, ?B/s]"
      ]
     },
     "metadata": {},
     "output_type": "display_data"
    },
    {
     "data": {
      "application/vnd.jupyter.widget-view+json": {
       "model_id": "1051213374724114819ca428e0f5798b",
       "version_major": 2,
       "version_minor": 0
      },
      "text/plain": [
       "Downloading:   0%|          | 0.00/1.29M [00:00<?, ?B/s]"
      ]
     },
     "metadata": {},
     "output_type": "display_data"
    },
    {
     "data": {
      "application/vnd.jupyter.widget-view+json": {
       "model_id": "3af3190cb1754759a96f0220d078e05a",
       "version_major": 2,
       "version_minor": 0
      },
      "text/plain": [
       "Downloading:   0%|          | 0.00/665 [00:00<?, ?B/s]"
      ]
     },
     "metadata": {},
     "output_type": "display_data"
    },
    {
     "name": "stderr",
     "output_type": "stream",
     "text": [
      "Special tokens have been added in the vocabulary, make sure the associated word embeddings are fine-tuned or trained.\n"
     ]
    },
    {
     "data": {
      "application/vnd.jupyter.widget-view+json": {
       "model_id": "166292746dba4ce49ffe8026a4ed9352",
       "version_major": 2,
       "version_minor": 0
      },
      "text/plain": [
       "Downloading:   0%|          | 0.00/523M [00:00<?, ?B/s]"
      ]
     },
     "metadata": {},
     "output_type": "display_data"
    },
    {
     "data": {
      "text/plain": [
       "Embedding(50260, 768)"
      ]
     },
     "execution_count": 4,
     "metadata": {},
     "output_type": "execute_result"
    }
   ],
   "source": [
    "tokenizer = GPT2TokenizerFast.from_pretrained(model_name,\n",
    "                                              bos_token='<|startoftext|>',\n",
    "                                              eos_token='<|endoftext|>',\n",
    "                                              unk_token='<|unknown|>',\n",
    "                                              pad_token='<|pad|>'\n",
    "                                             )\n",
    "model = GPT2LMHeadModel.from_pretrained(model_name)\n",
    "model.resize_token_embeddings(len(tokenizer))"
   ]
  },
  {
   "cell_type": "code",
   "execution_count": 5,
   "id": "9a1da0a5",
   "metadata": {
    "execution": {
     "iopub.execute_input": "2023-02-17T13:34:24.651601Z",
     "iopub.status.busy": "2023-02-17T13:34:24.651267Z",
     "iopub.status.idle": "2023-02-17T13:34:24.770213Z",
     "shell.execute_reply": "2023-02-17T13:34:24.769172Z"
    },
    "papermill": {
     "duration": 0.128834,
     "end_time": "2023-02-17T13:34:24.772571",
     "exception": false,
     "start_time": "2023-02-17T13:34:24.643737",
     "status": "completed"
    },
    "tags": []
   },
   "outputs": [
    {
     "data": {
      "text/plain": [
       "('./khaanaGPT/tokenizer_config.json',\n",
       " './khaanaGPT/special_tokens_map.json',\n",
       " './khaanaGPT/vocab.json',\n",
       " './khaanaGPT/merges.txt',\n",
       " './khaanaGPT/added_tokens.json',\n",
       " './khaanaGPT/tokenizer.json')"
      ]
     },
     "execution_count": 5,
     "metadata": {},
     "output_type": "execute_result"
    }
   ],
   "source": [
    "tokenizer.save_pretrained(model_save_path)"
   ]
  },
  {
   "cell_type": "code",
   "execution_count": 6,
   "id": "bc39f5ae",
   "metadata": {
    "execution": {
     "iopub.execute_input": "2023-02-17T13:34:24.786887Z",
     "iopub.status.busy": "2023-02-17T13:34:24.786577Z",
     "iopub.status.idle": "2023-02-17T13:34:24.793202Z",
     "shell.execute_reply": "2023-02-17T13:34:24.792157Z"
    },
    "papermill": {
     "duration": 0.01732,
     "end_time": "2023-02-17T13:34:24.796348",
     "exception": false,
     "start_time": "2023-02-17T13:34:24.779028",
     "status": "completed"
    },
    "tags": []
   },
   "outputs": [
    {
     "data": {
      "text/plain": [
       "[50259]"
      ]
     },
     "execution_count": 6,
     "metadata": {},
     "output_type": "execute_result"
    }
   ],
   "source": [
    "tokenizer.convert_tokens_to_ids(['<|pad|>'])"
   ]
  },
  {
   "cell_type": "code",
   "execution_count": 7,
   "id": "23756709",
   "metadata": {
    "execution": {
     "iopub.execute_input": "2023-02-17T13:34:24.811848Z",
     "iopub.status.busy": "2023-02-17T13:34:24.811588Z",
     "iopub.status.idle": "2023-02-17T13:34:24.816657Z",
     "shell.execute_reply": "2023-02-17T13:34:24.815723Z"
    },
    "papermill": {
     "duration": 0.014564,
     "end_time": "2023-02-17T13:34:24.818777",
     "exception": false,
     "start_time": "2023-02-17T13:34:24.804213",
     "status": "completed"
    },
    "tags": []
   },
   "outputs": [],
   "source": [
    "def generate(prompt):\n",
    "    inputs = tokenizer.encode_plus(prompt, return_tensors='pt')\n",
    "    output = model.generate(**inputs,max_length=256,do_sample=True,pad_token_id=50259)\n",
    "    print(tokenizer.decode(output[0]))"
   ]
  },
  {
   "cell_type": "code",
   "execution_count": 8,
   "id": "11a6c391",
   "metadata": {
    "execution": {
     "iopub.execute_input": "2023-02-17T13:34:24.833203Z",
     "iopub.status.busy": "2023-02-17T13:34:24.832459Z",
     "iopub.status.idle": "2023-02-17T13:34:24.839003Z",
     "shell.execute_reply": "2023-02-17T13:34:24.838056Z"
    },
    "papermill": {
     "duration": 0.015739,
     "end_time": "2023-02-17T13:34:24.841069",
     "exception": false,
     "start_time": "2023-02-17T13:34:24.825330",
     "status": "completed"
    },
    "tags": []
   },
   "outputs": [
    {
     "data": {
      "text/plain": [
       "{'bos_token': '<|startoftext|>',\n",
       " 'eos_token': '<|endoftext|>',\n",
       " 'unk_token': '<|unknown|>',\n",
       " 'pad_token': '<|pad|>'}"
      ]
     },
     "execution_count": 8,
     "metadata": {},
     "output_type": "execute_result"
    }
   ],
   "source": [
    "tokenizer.special_tokens_map"
   ]
  },
  {
   "cell_type": "code",
   "execution_count": 9,
   "id": "e602b365",
   "metadata": {
    "execution": {
     "iopub.execute_input": "2023-02-17T13:34:24.855603Z",
     "iopub.status.busy": "2023-02-17T13:34:24.854828Z",
     "iopub.status.idle": "2023-02-17T13:34:24.860740Z",
     "shell.execute_reply": "2023-02-17T13:34:24.859815Z"
    },
    "papermill": {
     "duration": 0.015314,
     "end_time": "2023-02-17T13:34:24.862892",
     "exception": false,
     "start_time": "2023-02-17T13:34:24.847578",
     "status": "completed"
    },
    "tags": []
   },
   "outputs": [
    {
     "data": {
      "text/plain": [
       "[50257]"
      ]
     },
     "execution_count": 9,
     "metadata": {},
     "output_type": "execute_result"
    }
   ],
   "source": [
    "tokenizer.convert_tokens_to_ids(['<|startoftext|>'],)"
   ]
  },
  {
   "cell_type": "code",
   "execution_count": 10,
   "id": "ba7206fb",
   "metadata": {
    "execution": {
     "iopub.execute_input": "2023-02-17T13:34:24.877711Z",
     "iopub.status.busy": "2023-02-17T13:34:24.876792Z",
     "iopub.status.idle": "2023-02-17T13:34:25.101607Z",
     "shell.execute_reply": "2023-02-17T13:34:25.100498Z"
    },
    "papermill": {
     "duration": 0.234701,
     "end_time": "2023-02-17T13:34:25.104154",
     "exception": false,
     "start_time": "2023-02-17T13:34:24.869453",
     "status": "completed"
    },
    "tags": []
   },
   "outputs": [],
   "source": [
    "clean = pd.read_csv('/kaggle/input/indian-recipes/recipes2.csv')\n",
    "clean = clean.sample(frac=1)\n",
    "clean.reset_index(drop=True,inplace=True)"
   ]
  },
  {
   "cell_type": "code",
   "execution_count": 11,
   "id": "de7fb80b",
   "metadata": {
    "execution": {
     "iopub.execute_input": "2023-02-17T13:34:25.119728Z",
     "iopub.status.busy": "2023-02-17T13:34:25.119058Z",
     "iopub.status.idle": "2023-02-17T13:34:25.124333Z",
     "shell.execute_reply": "2023-02-17T13:34:25.123239Z"
    },
    "papermill": {
     "duration": 0.015245,
     "end_time": "2023-02-17T13:34:25.126409",
     "exception": false,
     "start_time": "2023-02-17T13:34:25.111164",
     "status": "completed"
    },
    "tags": []
   },
   "outputs": [],
   "source": [
    "def print_recipe(idx):\n",
    "    print(f\"{clean['ingredients'][idx]}\\n\\n{clean['instructions'][idx]}\")"
   ]
  },
  {
   "cell_type": "code",
   "execution_count": 12,
   "id": "0aa48926",
   "metadata": {
    "execution": {
     "iopub.execute_input": "2023-02-17T13:34:25.142078Z",
     "iopub.status.busy": "2023-02-17T13:34:25.141623Z",
     "iopub.status.idle": "2023-02-17T13:34:25.146115Z",
     "shell.execute_reply": "2023-02-17T13:34:25.145183Z"
    },
    "papermill": {
     "duration": 0.014662,
     "end_time": "2023-02-17T13:34:25.148143",
     "exception": false,
     "start_time": "2023-02-17T13:34:25.133481",
     "status": "completed"
    },
    "tags": []
   },
   "outputs": [],
   "source": [
    "def form_string(ingredient,instruction):\n",
    "    s = f\"<|startoftext|>Ingredients:\\n{ingredient.strip()}\\n\\nInstructions:\\n{instruction.strip()}<|endoftext|>\"\n",
    "    return s"
   ]
  },
  {
   "cell_type": "code",
   "execution_count": 13,
   "id": "320c6c26",
   "metadata": {
    "execution": {
     "iopub.execute_input": "2023-02-17T13:34:25.163423Z",
     "iopub.status.busy": "2023-02-17T13:34:25.162538Z",
     "iopub.status.idle": "2023-02-17T13:34:25.250755Z",
     "shell.execute_reply": "2023-02-17T13:34:25.249871Z"
    },
    "papermill": {
     "duration": 0.098057,
     "end_time": "2023-02-17T13:34:25.253001",
     "exception": false,
     "start_time": "2023-02-17T13:34:25.154944",
     "status": "completed"
    },
    "tags": []
   },
   "outputs": [],
   "source": [
    "data = clean.apply(lambda x:form_string(x['ingredients'],x['instructions']),axis=1).to_list()"
   ]
  },
  {
   "cell_type": "markdown",
   "id": "5f07ca2e",
   "metadata": {
    "papermill": {
     "duration": 0.006557,
     "end_time": "2023-02-17T13:34:25.266255",
     "exception": false,
     "start_time": "2023-02-17T13:34:25.259698",
     "status": "completed"
    },
    "tags": []
   },
   "source": [
    "https://towardsdatascience.com/guide-to-fine-tuning-text-generation-models-gpt-2-gpt-neo-and-t5-dc5de6b3bc5e"
   ]
  },
  {
   "cell_type": "code",
   "execution_count": 14,
   "id": "55f1d0f1",
   "metadata": {
    "execution": {
     "iopub.execute_input": "2023-02-17T13:34:25.281715Z",
     "iopub.status.busy": "2023-02-17T13:34:25.281434Z",
     "iopub.status.idle": "2023-02-17T13:34:25.286154Z",
     "shell.execute_reply": "2023-02-17T13:34:25.285200Z"
    },
    "papermill": {
     "duration": 0.01452,
     "end_time": "2023-02-17T13:34:25.288208",
     "exception": false,
     "start_time": "2023-02-17T13:34:25.273688",
     "status": "completed"
    },
    "tags": []
   },
   "outputs": [],
   "source": [
    "train_size = 0.85\n",
    "train_len = int(train_size * len(data))\n",
    "train_data = data[:train_len]\n",
    "val_data = data[train_len:]"
   ]
  },
  {
   "cell_type": "code",
   "execution_count": 15,
   "id": "b42c0ce7",
   "metadata": {
    "execution": {
     "iopub.execute_input": "2023-02-17T13:34:25.303272Z",
     "iopub.status.busy": "2023-02-17T13:34:25.302446Z",
     "iopub.status.idle": "2023-02-17T13:34:25.309416Z",
     "shell.execute_reply": "2023-02-17T13:34:25.308588Z"
    },
    "papermill": {
     "duration": 0.016565,
     "end_time": "2023-02-17T13:34:25.311351",
     "exception": false,
     "start_time": "2023-02-17T13:34:25.294786",
     "status": "completed"
    },
    "tags": []
   },
   "outputs": [],
   "source": [
    "class RecipeDataset:\n",
    "    def __init__(self,data):\n",
    "        self.data = data\n",
    "        self.input_ids = []\n",
    "        self.attn_masks = []\n",
    "        \n",
    "        for item in tqdm(data):\n",
    "            encodings = tokenizer.encode_plus(item,\n",
    "                                              truncation=True,\n",
    "                                              padding='max_length',\n",
    "                                              max_length=1024,\n",
    "                                              return_tensors='pt'\n",
    "                                             )\n",
    "            self.input_ids.append(torch.squeeze(encodings['input_ids'],0))\n",
    "            self.attn_masks.append(torch.squeeze(encodings['attention_mask'],0))\n",
    "        \n",
    "    def __len__(self):\n",
    "        return len(self.data)\n",
    "    \n",
    "    def __getitem__(self,idx):\n",
    "        return self.input_ids[idx], self.attn_masks[idx] "
   ]
  },
  {
   "cell_type": "code",
   "execution_count": 16,
   "id": "d3a70118",
   "metadata": {
    "execution": {
     "iopub.execute_input": "2023-02-17T13:34:25.325646Z",
     "iopub.status.busy": "2023-02-17T13:34:25.325128Z",
     "iopub.status.idle": "2023-02-17T13:34:25.330285Z",
     "shell.execute_reply": "2023-02-17T13:34:25.329384Z"
    },
    "papermill": {
     "duration": 0.014469,
     "end_time": "2023-02-17T13:34:25.332318",
     "exception": false,
     "start_time": "2023-02-17T13:34:25.317849",
     "status": "completed"
    },
    "tags": []
   },
   "outputs": [],
   "source": [
    "def collate_fn(batch):\n",
    "    return {\n",
    "        'input_ids': torch.stack([item[0] for item in batch]),\n",
    "        'attention_mask': torch.stack([item[1] for item in batch]),\n",
    "        'labels': torch.stack([item[0] for item in batch])\n",
    "    }"
   ]
  },
  {
   "cell_type": "code",
   "execution_count": 17,
   "id": "7aafedd7",
   "metadata": {
    "execution": {
     "iopub.execute_input": "2023-02-17T13:34:25.347030Z",
     "iopub.status.busy": "2023-02-17T13:34:25.346277Z",
     "iopub.status.idle": "2023-02-17T13:34:32.446178Z",
     "shell.execute_reply": "2023-02-17T13:34:32.445186Z"
    },
    "papermill": {
     "duration": 7.109639,
     "end_time": "2023-02-17T13:34:32.448516",
     "exception": false,
     "start_time": "2023-02-17T13:34:25.338877",
     "status": "completed"
    },
    "tags": []
   },
   "outputs": [
    {
     "data": {
      "application/vnd.jupyter.widget-view+json": {
       "model_id": "ba044dac2c34420f9f6a9c7d7e575e11",
       "version_major": 2,
       "version_minor": 0
      },
      "text/plain": [
       "  0%|          | 0/5047 [00:00<?, ?it/s]"
      ]
     },
     "metadata": {},
     "output_type": "display_data"
    },
    {
     "data": {
      "application/vnd.jupyter.widget-view+json": {
       "model_id": "08376df3fc204eac8d758e8a0ad19b93",
       "version_major": 2,
       "version_minor": 0
      },
      "text/plain": [
       "  0%|          | 0/891 [00:00<?, ?it/s]"
      ]
     },
     "metadata": {},
     "output_type": "display_data"
    }
   ],
   "source": [
    "train_ds = RecipeDataset(train_data)\n",
    "val_ds = RecipeDataset(val_data)"
   ]
  },
  {
   "cell_type": "code",
   "execution_count": 18,
   "id": "9217aa6a",
   "metadata": {
    "execution": {
     "iopub.execute_input": "2023-02-17T13:34:32.464813Z",
     "iopub.status.busy": "2023-02-17T13:34:32.464479Z",
     "iopub.status.idle": "2023-02-17T13:34:32.592945Z",
     "shell.execute_reply": "2023-02-17T13:34:32.591982Z"
    },
    "papermill": {
     "duration": 0.139256,
     "end_time": "2023-02-17T13:34:32.595349",
     "exception": false,
     "start_time": "2023-02-17T13:34:32.456093",
     "status": "completed"
    },
    "tags": []
   },
   "outputs": [],
   "source": [
    "args = TrainingArguments(output_dir=model_save_path,\n",
    "                         per_device_train_batch_size=2,\n",
    "                         per_device_eval_batch_size=2,\n",
    "                         gradient_accumulation_steps=2,\n",
    "                         report_to='none',\n",
    "                         num_train_epochs=3,\n",
    "                         save_strategy='no'\n",
    "                        )"
   ]
  },
  {
   "cell_type": "code",
   "execution_count": 19,
   "id": "8a63414d",
   "metadata": {
    "execution": {
     "iopub.execute_input": "2023-02-17T13:34:32.612549Z",
     "iopub.status.busy": "2023-02-17T13:34:32.610763Z",
     "iopub.status.idle": "2023-02-17T13:34:32.617663Z",
     "shell.execute_reply": "2023-02-17T13:34:32.616677Z"
    },
    "papermill": {
     "duration": 0.017367,
     "end_time": "2023-02-17T13:34:32.619942",
     "exception": false,
     "start_time": "2023-02-17T13:34:32.602575",
     "status": "completed"
    },
    "tags": []
   },
   "outputs": [],
   "source": [
    "optim = torch.optim.AdamW(model.parameters(),lr=5e-5)\n",
    "scheduler = torch.optim.lr_scheduler.CosineAnnealingWarmRestarts(optim,20,eta_min=1e-7)"
   ]
  },
  {
   "cell_type": "code",
   "execution_count": 20,
   "id": "efb46f00",
   "metadata": {
    "execution": {
     "iopub.execute_input": "2023-02-17T13:34:32.635197Z",
     "iopub.status.busy": "2023-02-17T13:34:32.634926Z",
     "iopub.status.idle": "2023-02-17T13:34:37.810671Z",
     "shell.execute_reply": "2023-02-17T13:34:37.809610Z"
    },
    "papermill": {
     "duration": 5.186167,
     "end_time": "2023-02-17T13:34:37.813033",
     "exception": false,
     "start_time": "2023-02-17T13:34:32.626866",
     "status": "completed"
    },
    "tags": []
   },
   "outputs": [],
   "source": [
    "trainer = Trainer(model,\n",
    "                  args,\n",
    "                  train_dataset=train_ds,\n",
    "                  eval_dataset=val_ds,\n",
    "                  data_collator=collate_fn,\n",
    "                  optimizers=(optim,scheduler)\n",
    "                 )"
   ]
  },
  {
   "cell_type": "code",
   "execution_count": 21,
   "id": "ede95bb7",
   "metadata": {
    "execution": {
     "iopub.execute_input": "2023-02-17T13:34:37.830145Z",
     "iopub.status.busy": "2023-02-17T13:34:37.828656Z",
     "iopub.status.idle": "2023-02-17T14:27:06.805075Z",
     "shell.execute_reply": "2023-02-17T14:27:06.804119Z"
    },
    "papermill": {
     "duration": 3148.986737,
     "end_time": "2023-02-17T14:27:06.807297",
     "exception": false,
     "start_time": "2023-02-17T13:34:37.820560",
     "status": "completed"
    },
    "tags": []
   },
   "outputs": [
    {
     "name": "stderr",
     "output_type": "stream",
     "text": [
      "***** Running training *****\n",
      "  Num examples = 5047\n",
      "  Num Epochs = 3\n",
      "  Instantaneous batch size per device = 2\n",
      "  Total train batch size (w. parallel, distributed & accumulation) = 8\n",
      "  Gradient Accumulation steps = 2\n",
      "  Total optimization steps = 1893\n",
      "/opt/conda/lib/python3.7/site-packages/torch/nn/parallel/_functions.py:68: UserWarning: Was asked to gather along dimension 0, but all input tensors were scalars; will instead unsqueeze and return a vector.\n",
      "  warnings.warn('Was asked to gather along dimension 0, but all '\n"
     ]
    },
    {
     "data": {
      "text/html": [
       "\n",
       "    <div>\n",
       "      \n",
       "      <progress value='1893' max='1893' style='width:300px; height:20px; vertical-align: middle;'></progress>\n",
       "      [1893/1893 52:22, Epoch 3/3]\n",
       "    </div>\n",
       "    <table border=\"1\" class=\"dataframe\">\n",
       "  <thead>\n",
       " <tr style=\"text-align: left;\">\n",
       "      <th>Step</th>\n",
       "      <th>Training Loss</th>\n",
       "    </tr>\n",
       "  </thead>\n",
       "  <tbody>\n",
       "    <tr>\n",
       "      <td>500</td>\n",
       "      <td>0.912500</td>\n",
       "    </tr>\n",
       "    <tr>\n",
       "      <td>1000</td>\n",
       "      <td>0.652200</td>\n",
       "    </tr>\n",
       "    <tr>\n",
       "      <td>1500</td>\n",
       "      <td>0.617500</td>\n",
       "    </tr>\n",
       "  </tbody>\n",
       "</table><p>"
      ],
      "text/plain": [
       "<IPython.core.display.HTML object>"
      ]
     },
     "metadata": {},
     "output_type": "display_data"
    },
    {
     "name": "stderr",
     "output_type": "stream",
     "text": [
      "\n",
      "\n",
      "Training completed. Do not forget to share your model on huggingface.co/models =)\n",
      "\n",
      "\n"
     ]
    },
    {
     "data": {
      "text/plain": [
       "TrainOutput(global_step=1893, training_loss=0.7011296936776735, metrics={'train_runtime': 3148.955, 'train_samples_per_second': 4.808, 'train_steps_per_second': 0.601, 'total_flos': 7912445313024000.0, 'train_loss': 0.7011296936776735, 'epoch': 3.0})"
      ]
     },
     "execution_count": 21,
     "metadata": {},
     "output_type": "execute_result"
    }
   ],
   "source": [
    "trainer.train()"
   ]
  },
  {
   "cell_type": "code",
   "execution_count": 22,
   "id": "5ab7c07d",
   "metadata": {
    "execution": {
     "iopub.execute_input": "2023-02-17T14:27:06.825510Z",
     "iopub.status.busy": "2023-02-17T14:27:06.823784Z",
     "iopub.status.idle": "2023-02-17T14:27:07.793310Z",
     "shell.execute_reply": "2023-02-17T14:27:07.792280Z"
    },
    "papermill": {
     "duration": 0.9808,
     "end_time": "2023-02-17T14:27:07.795950",
     "exception": false,
     "start_time": "2023-02-17T14:27:06.815150",
     "status": "completed"
    },
    "tags": []
   },
   "outputs": [
    {
     "name": "stderr",
     "output_type": "stream",
     "text": [
      "Saving model checkpoint to ./khaanaGPT\n",
      "Configuration saved in ./khaanaGPT/config.json\n",
      "Model weights saved in ./khaanaGPT/pytorch_model.bin\n"
     ]
    }
   ],
   "source": [
    "trainer.save_model()"
   ]
  },
  {
   "cell_type": "code",
   "execution_count": 23,
   "id": "09197463",
   "metadata": {
    "execution": {
     "iopub.execute_input": "2023-02-17T14:27:07.818182Z",
     "iopub.status.busy": "2023-02-17T14:27:07.817881Z",
     "iopub.status.idle": "2023-02-17T14:27:10.388460Z",
     "shell.execute_reply": "2023-02-17T14:27:10.387517Z"
    },
    "papermill": {
     "duration": 2.586384,
     "end_time": "2023-02-17T14:27:10.391206",
     "exception": false,
     "start_time": "2023-02-17T14:27:07.804822",
     "status": "completed"
    },
    "tags": []
   },
   "outputs": [],
   "source": [
    "from transformers import pipeline"
   ]
  },
  {
   "cell_type": "code",
   "execution_count": 24,
   "id": "f756b8c5",
   "metadata": {
    "execution": {
     "iopub.execute_input": "2023-02-17T14:27:10.408813Z",
     "iopub.status.busy": "2023-02-17T14:27:10.408506Z",
     "iopub.status.idle": "2023-02-17T14:27:12.965270Z",
     "shell.execute_reply": "2023-02-17T14:27:12.964200Z"
    },
    "papermill": {
     "duration": 2.568482,
     "end_time": "2023-02-17T14:27:12.968034",
     "exception": false,
     "start_time": "2023-02-17T14:27:10.399552",
     "status": "completed"
    },
    "tags": []
   },
   "outputs": [
    {
     "name": "stderr",
     "output_type": "stream",
     "text": [
      "loading configuration file /kaggle/working/khaanaGPT/config.json\n",
      "Model config GPT2Config {\n",
      "  \"_name_or_path\": \"/kaggle/working/khaanaGPT\",\n",
      "  \"activation_function\": \"gelu_new\",\n",
      "  \"architectures\": [\n",
      "    \"GPT2LMHeadModel\"\n",
      "  ],\n",
      "  \"attn_pdrop\": 0.1,\n",
      "  \"bos_token_id\": 50256,\n",
      "  \"embd_pdrop\": 0.1,\n",
      "  \"eos_token_id\": 50256,\n",
      "  \"initializer_range\": 0.02,\n",
      "  \"layer_norm_epsilon\": 1e-05,\n",
      "  \"model_type\": \"gpt2\",\n",
      "  \"n_ctx\": 1024,\n",
      "  \"n_embd\": 768,\n",
      "  \"n_head\": 12,\n",
      "  \"n_inner\": null,\n",
      "  \"n_layer\": 12,\n",
      "  \"n_positions\": 1024,\n",
      "  \"reorder_and_upcast_attn\": false,\n",
      "  \"resid_pdrop\": 0.1,\n",
      "  \"scale_attn_by_inverse_layer_idx\": false,\n",
      "  \"scale_attn_weights\": true,\n",
      "  \"summary_activation\": null,\n",
      "  \"summary_first_dropout\": 0.1,\n",
      "  \"summary_proj_to_labels\": true,\n",
      "  \"summary_type\": \"cls_index\",\n",
      "  \"summary_use_proj\": true,\n",
      "  \"task_specific_params\": {\n",
      "    \"text-generation\": {\n",
      "      \"do_sample\": true,\n",
      "      \"max_length\": 50\n",
      "    }\n",
      "  },\n",
      "  \"torch_dtype\": \"float32\",\n",
      "  \"transformers_version\": \"4.20.1\",\n",
      "  \"use_cache\": true,\n",
      "  \"vocab_size\": 50260\n",
      "}\n",
      "\n",
      "loading configuration file /kaggle/working/khaanaGPT/config.json\n",
      "Model config GPT2Config {\n",
      "  \"_name_or_path\": \"/kaggle/working/khaanaGPT\",\n",
      "  \"activation_function\": \"gelu_new\",\n",
      "  \"architectures\": [\n",
      "    \"GPT2LMHeadModel\"\n",
      "  ],\n",
      "  \"attn_pdrop\": 0.1,\n",
      "  \"bos_token_id\": 50256,\n",
      "  \"embd_pdrop\": 0.1,\n",
      "  \"eos_token_id\": 50256,\n",
      "  \"initializer_range\": 0.02,\n",
      "  \"layer_norm_epsilon\": 1e-05,\n",
      "  \"model_type\": \"gpt2\",\n",
      "  \"n_ctx\": 1024,\n",
      "  \"n_embd\": 768,\n",
      "  \"n_head\": 12,\n",
      "  \"n_inner\": null,\n",
      "  \"n_layer\": 12,\n",
      "  \"n_positions\": 1024,\n",
      "  \"reorder_and_upcast_attn\": false,\n",
      "  \"resid_pdrop\": 0.1,\n",
      "  \"scale_attn_by_inverse_layer_idx\": false,\n",
      "  \"scale_attn_weights\": true,\n",
      "  \"summary_activation\": null,\n",
      "  \"summary_first_dropout\": 0.1,\n",
      "  \"summary_proj_to_labels\": true,\n",
      "  \"summary_type\": \"cls_index\",\n",
      "  \"summary_use_proj\": true,\n",
      "  \"task_specific_params\": {\n",
      "    \"text-generation\": {\n",
      "      \"do_sample\": true,\n",
      "      \"max_length\": 50\n",
      "    }\n",
      "  },\n",
      "  \"torch_dtype\": \"float32\",\n",
      "  \"transformers_version\": \"4.20.1\",\n",
      "  \"use_cache\": true,\n",
      "  \"vocab_size\": 50260\n",
      "}\n",
      "\n",
      "loading weights file /kaggle/working/khaanaGPT/pytorch_model.bin\n",
      "All model checkpoint weights were used when initializing GPT2LMHeadModel.\n",
      "\n",
      "All the weights of GPT2LMHeadModel were initialized from the model checkpoint at /kaggle/working/khaanaGPT.\n",
      "If your task is similar to the task the model of the checkpoint was trained on, you can already use GPT2LMHeadModel for predictions without further training.\n",
      "loading file /kaggle/working/khaanaGPT/vocab.json\n",
      "loading file /kaggle/working/khaanaGPT/merges.txt\n",
      "loading file /kaggle/working/khaanaGPT/tokenizer.json\n",
      "loading file /kaggle/working/khaanaGPT/added_tokens.json\n",
      "loading file /kaggle/working/khaanaGPT/special_tokens_map.json\n",
      "loading file /kaggle/working/khaanaGPT/tokenizer_config.json\n"
     ]
    }
   ],
   "source": [
    "pl = pipeline(task='text-generation',model='/kaggle/working/khaanaGPT')"
   ]
  },
  {
   "cell_type": "code",
   "execution_count": 25,
   "id": "ec9e19c7",
   "metadata": {
    "execution": {
     "iopub.execute_input": "2023-02-17T14:27:12.986821Z",
     "iopub.status.busy": "2023-02-17T14:27:12.986502Z",
     "iopub.status.idle": "2023-02-17T14:27:12.992078Z",
     "shell.execute_reply": "2023-02-17T14:27:12.990937Z"
    },
    "papermill": {
     "duration": 0.017297,
     "end_time": "2023-02-17T14:27:12.994402",
     "exception": false,
     "start_time": "2023-02-17T14:27:12.977105",
     "status": "completed"
    },
    "tags": []
   },
   "outputs": [],
   "source": [
    "def create_prompt(ingredients):\n",
    "    ingredients = ','.join([x.strip().lower() for x in ingredients.split(',')])\n",
    "    ingredients = ingredients.strip().replace(',','\\n')\n",
    "    s = f\"<|startoftext|>Ingredients:\\n{ingredients}\\n\"\n",
    "    return s"
   ]
  },
  {
   "cell_type": "code",
   "execution_count": 26,
   "id": "cc253319",
   "metadata": {
    "execution": {
     "iopub.execute_input": "2023-02-17T14:27:13.012628Z",
     "iopub.status.busy": "2023-02-17T14:27:13.012201Z",
     "iopub.status.idle": "2023-02-17T14:27:13.016313Z",
     "shell.execute_reply": "2023-02-17T14:27:13.015358Z"
    },
    "papermill": {
     "duration": 0.015495,
     "end_time": "2023-02-17T14:27:13.018383",
     "exception": false,
     "start_time": "2023-02-17T14:27:13.002888",
     "status": "completed"
    },
    "tags": []
   },
   "outputs": [],
   "source": [
    "ingredients = ['Rice,Potatoes,Tomatoes,Spinach,red bell peppers','chicken,tomatoes,aloo,jeera,curry powder']"
   ]
  },
  {
   "cell_type": "code",
   "execution_count": 27,
   "id": "45df47cf",
   "metadata": {
    "execution": {
     "iopub.execute_input": "2023-02-17T14:27:13.037080Z",
     "iopub.status.busy": "2023-02-17T14:27:13.036290Z",
     "iopub.status.idle": "2023-02-17T14:27:51.086157Z",
     "shell.execute_reply": "2023-02-17T14:27:51.085168Z"
    },
    "papermill": {
     "duration": 38.069886,
     "end_time": "2023-02-17T14:27:51.096864",
     "exception": false,
     "start_time": "2023-02-17T14:27:13.026978",
     "status": "completed"
    },
    "tags": []
   },
   "outputs": [
    {
     "name": "stdout",
     "output_type": "stream",
     "text": [
      "<|startoftext|>Ingredients:\n",
      "rice\n",
      "potatoes\n",
      "tomatoes\n",
      "spinach\n",
      "red bell peppers\n",
      "black pepper powder\n",
      "coriander (dhania) leaves\n",
      "onion\n",
      "cumin seeds (jeera)\n",
      "potato (aloo)\n",
      "turmeric powder\n",
      "green chillies\n",
      "green peas (matar)\n",
      "garam masala powder\n",
      "sunflower oil\n",
      "\n",
      "Instructions:\n",
      "first wash and chop potatoes.\n",
      "keep them aside.heat oil in a kadai.\n",
      "add cumin seeds, black pepper powder, turmeric, garam masala powder, red chilli powder and cook until the spices have softened and the potatoes are soft.once the spices have softened, add chopped onions and cook until they turn translucent and brown in colour.\n",
      "once done add in chopped pota green chillies, coriander seeds and mix well to combine.\n",
      "add in cooked rice, red bell peppers and cook until it becomes a little thick and cooked.\n",
      "once done, add in cooked pota spinach,  red chilli powder and garam masala and stir well to combine.\n",
      "check the seasoning and adjust according to your taste.serve the spinach and red chili curry recipe as a side dish along with a hot cup of masala chai and a hot cup of phulkas for lunch along with your kids.\n",
      "<|startoftext|>Ingredients:\n",
      "chicken\n",
      "tomatoes\n",
      "aloo\n",
      "jeera\n",
      "curry powder\n",
      "red chilli powder\n",
      "onion\n",
      "cumin seeds (jeera)\n",
      "turmeric powder\n",
      "green chillies\n",
      "sunflower oil\n",
      "\n",
      "Instructions:\n",
      "heat oil in a heavy bottomed pan.\n",
      "add onions and sauté till it turns translucent.add green chilies and sauté for 2 minutes.\n",
      "now add turmeric powder, red chilli powder, salt and mix everything well.\n",
      "add chicken pieces and mix well.\n",
      "cover the pan and cook until chicken is tender.\n",
      "serve hot.serve hot with a dollop of masala chai or any other chutney of your choice.\n",
      "serve hot with a dollop of masala chai or any other chutney of your choice.\n",
      "serve hot with a dollop of masala chai or any other chutney of your choice.\n",
      "you may also add some water  and cook the chutney in low heat until tender.\n",
      "turn off the heat.serve hot with a dollop of masala chai or any other chutney of your choice.\n",
      " you may also add some water  and cook the chutney in low heat until tender.\n",
      "turn off heat.\n",
      "serve hot with a dollop of masala chai or any other chutney of your choice.\n",
      "you may also add some water  and cook the chutney in low heat until tender.turn off the heat.\n",
      "serve hot with a dollop of masala chai or any other chutney of your choice. you may also add some water  and cook the chutney in low heat until tender.\n",
      "turn off the heat.\n",
      "you can optionally serve it as an appetizer for your parties.\n",
      "serve hot with a dollop of masala chai or any other chutney of your choice.\n",
      "you can optionally serve it as an appetizer for your parties.\n",
      "you can optionally serve it as an appetizer for your parties.\n",
      "you can optionally serve the chutneys as a snack or a dessert.\n"
     ]
    }
   ],
   "source": [
    "\n",
    "for ing in ingredients:\n",
    "    prompt = create_prompt(ing)\n",
    "    print(pl(prompt,\n",
    "         max_new_tokens=512,\n",
    "         penalty_alpha=0.6,\n",
    "         top_k=4,\n",
    "         pad_token_id=50259\n",
    "        )[0]['generated_text'])"
   ]
  }
 ],
 "metadata": {
  "kernelspec": {
   "display_name": "Python 3",
   "language": "python",
   "name": "python3"
  },
  "language_info": {
   "codemirror_mode": {
    "name": "ipython",
    "version": 3
   },
   "file_extension": ".py",
   "mimetype": "text/x-python",
   "name": "python",
   "nbconvert_exporter": "python",
   "pygments_lexer": "ipython3",
   "version": "3.7.12"
  },
  "papermill": {
   "default_parameters": {},
   "duration": 3255.807021,
   "end_time": "2023-02-17T14:27:54.907345",
   "environment_variables": {},
   "exception": null,
   "input_path": "__notebook__.ipynb",
   "output_path": "__notebook__.ipynb",
   "parameters": {},
   "start_time": "2023-02-17T13:33:39.100324",
   "version": "2.3.4"
  },
  "widgets": {
   "application/vnd.jupyter.widget-state+json": {
    "state": {
     "00aac60f03ae4eddbaff6685cec7f767": {
      "model_module": "@jupyter-widgets/controls",
      "model_module_version": "1.5.0",
      "model_name": "ProgressStyleModel",
      "state": {
       "_model_module": "@jupyter-widgets/controls",
       "_model_module_version": "1.5.0",
       "_model_name": "ProgressStyleModel",
       "_view_count": null,
       "_view_module": "@jupyter-widgets/base",
       "_view_module_version": "1.2.0",
       "_view_name": "StyleView",
       "bar_color": null,
       "description_width": ""
      }
     },
     "0134bf0afff747a1be9cd7b9cf5a1bcf": {
      "model_module": "@jupyter-widgets/controls",
      "model_module_version": "1.5.0",
      "model_name": "FloatProgressModel",
      "state": {
       "_dom_classes": [],
       "_model_module": "@jupyter-widgets/controls",
       "_model_module_version": "1.5.0",
       "_model_name": "FloatProgressModel",
       "_view_count": null,
       "_view_module": "@jupyter-widgets/controls",
       "_view_module_version": "1.5.0",
       "_view_name": "ProgressView",
       "bar_style": "success",
       "description": "",
       "description_tooltip": null,
       "layout": "IPY_MODEL_7e8abf7d580944c09bfc9d712aa01b4b",
       "max": 548118077.0,
       "min": 0.0,
       "orientation": "horizontal",
       "style": "IPY_MODEL_00aac60f03ae4eddbaff6685cec7f767",
       "value": 548118077.0
      }
     },
     "02d5878ab1674793a6dfbffa7f386db8": {
      "model_module": "@jupyter-widgets/controls",
      "model_module_version": "1.5.0",
      "model_name": "FloatProgressModel",
      "state": {
       "_dom_classes": [],
       "_model_module": "@jupyter-widgets/controls",
       "_model_module_version": "1.5.0",
       "_model_name": "FloatProgressModel",
       "_view_count": null,
       "_view_module": "@jupyter-widgets/controls",
       "_view_module_version": "1.5.0",
       "_view_name": "ProgressView",
       "bar_style": "success",
       "description": "",
       "description_tooltip": null,
       "layout": "IPY_MODEL_3e39ad2bc19c480780567f5ae1e73622",
       "max": 456318.0,
       "min": 0.0,
       "orientation": "horizontal",
       "style": "IPY_MODEL_5e8336645d054f2d9fe7ea4121ff0ff7",
       "value": 456318.0
      }
     },
     "037c2cbfcdf347f08e33f49b77cdc33f": {
      "model_module": "@jupyter-widgets/controls",
      "model_module_version": "1.5.0",
      "model_name": "HTMLModel",
      "state": {
       "_dom_classes": [],
       "_model_module": "@jupyter-widgets/controls",
       "_model_module_version": "1.5.0",
       "_model_name": "HTMLModel",
       "_view_count": null,
       "_view_module": "@jupyter-widgets/controls",
       "_view_module_version": "1.5.0",
       "_view_name": "HTMLView",
       "description": "",
       "description_tooltip": null,
       "layout": "IPY_MODEL_104ddbb3b662438fa7c8f60513c9298e",
       "placeholder": "​",
       "style": "IPY_MODEL_54ee1e9c6cd940c8a525f5cf20db2a16",
       "value": " 5047/5047 [00:05&lt;00:00, 854.84it/s]"
      }
     },
     "07a90b48b8fb49c5ba8d92e24f37a54b": {
      "model_module": "@jupyter-widgets/controls",
      "model_module_version": "1.5.0",
      "model_name": "HTMLModel",
      "state": {
       "_dom_classes": [],
       "_model_module": "@jupyter-widgets/controls",
       "_model_module_version": "1.5.0",
       "_model_name": "HTMLModel",
       "_view_count": null,
       "_view_module": "@jupyter-widgets/controls",
       "_view_module_version": "1.5.0",
       "_view_name": "HTMLView",
       "description": "",
       "description_tooltip": null,
       "layout": "IPY_MODEL_7cf63969fe974c688444502e267d1ce9",
       "placeholder": "​",
       "style": "IPY_MODEL_5a46ef82123e4678b69e3c30a5370152",
       "value": " 0.99M/0.99M [00:00&lt;00:00, 1.73MB/s]"
      }
     },
     "08376df3fc204eac8d758e8a0ad19b93": {
      "model_module": "@jupyter-widgets/controls",
      "model_module_version": "1.5.0",
      "model_name": "HBoxModel",
      "state": {
       "_dom_classes": [],
       "_model_module": "@jupyter-widgets/controls",
       "_model_module_version": "1.5.0",
       "_model_name": "HBoxModel",
       "_view_count": null,
       "_view_module": "@jupyter-widgets/controls",
       "_view_module_version": "1.5.0",
       "_view_name": "HBoxView",
       "box_style": "",
       "children": [
        "IPY_MODEL_9e3a90696ab941d0a7c0041db2213370",
        "IPY_MODEL_0a79b5ec84a043c6878ad5579629f13c",
        "IPY_MODEL_1d61bb96fd024faa8098dbd80286b0f9"
       ],
       "layout": "IPY_MODEL_c00734a4bc7347b0bfbf364d781ed7d7"
      }
     },
     "08ecce096a3f474ab22b02a677e9a15e": {
      "model_module": "@jupyter-widgets/base",
      "model_module_version": "1.2.0",
      "model_name": "LayoutModel",
      "state": {
       "_model_module": "@jupyter-widgets/base",
       "_model_module_version": "1.2.0",
       "_model_name": "LayoutModel",
       "_view_count": null,
       "_view_module": "@jupyter-widgets/base",
       "_view_module_version": "1.2.0",
       "_view_name": "LayoutView",
       "align_content": null,
       "align_items": null,
       "align_self": null,
       "border": null,
       "bottom": null,
       "display": null,
       "flex": null,
       "flex_flow": null,
       "grid_area": null,
       "grid_auto_columns": null,
       "grid_auto_flow": null,
       "grid_auto_rows": null,
       "grid_column": null,
       "grid_gap": null,
       "grid_row": null,
       "grid_template_areas": null,
       "grid_template_columns": null,
       "grid_template_rows": null,
       "height": null,
       "justify_content": null,
       "justify_items": null,
       "left": null,
       "margin": null,
       "max_height": null,
       "max_width": null,
       "min_height": null,
       "min_width": null,
       "object_fit": null,
       "object_position": null,
       "order": null,
       "overflow": null,
       "overflow_x": null,
       "overflow_y": null,
       "padding": null,
       "right": null,
       "top": null,
       "visibility": null,
       "width": null
      }
     },
     "0a79b5ec84a043c6878ad5579629f13c": {
      "model_module": "@jupyter-widgets/controls",
      "model_module_version": "1.5.0",
      "model_name": "FloatProgressModel",
      "state": {
       "_dom_classes": [],
       "_model_module": "@jupyter-widgets/controls",
       "_model_module_version": "1.5.0",
       "_model_name": "FloatProgressModel",
       "_view_count": null,
       "_view_module": "@jupyter-widgets/controls",
       "_view_module_version": "1.5.0",
       "_view_name": "ProgressView",
       "bar_style": "success",
       "description": "",
       "description_tooltip": null,
       "layout": "IPY_MODEL_c9c3ee9490344fd78288862ca48f932c",
       "max": 891.0,
       "min": 0.0,
       "orientation": "horizontal",
       "style": "IPY_MODEL_302de4e2f2b04eed926271baff3e2856",
       "value": 891.0
      }
     },
     "0f5e4d7085ef4fd2806893adf46e2492": {
      "model_module": "@jupyter-widgets/base",
      "model_module_version": "1.2.0",
      "model_name": "LayoutModel",
      "state": {
       "_model_module": "@jupyter-widgets/base",
       "_model_module_version": "1.2.0",
       "_model_name": "LayoutModel",
       "_view_count": null,
       "_view_module": "@jupyter-widgets/base",
       "_view_module_version": "1.2.0",
       "_view_name": "LayoutView",
       "align_content": null,
       "align_items": null,
       "align_self": null,
       "border": null,
       "bottom": null,
       "display": null,
       "flex": null,
       "flex_flow": null,
       "grid_area": null,
       "grid_auto_columns": null,
       "grid_auto_flow": null,
       "grid_auto_rows": null,
       "grid_column": null,
       "grid_gap": null,
       "grid_row": null,
       "grid_template_areas": null,
       "grid_template_columns": null,
       "grid_template_rows": null,
       "height": null,
       "justify_content": null,
       "justify_items": null,
       "left": null,
       "margin": null,
       "max_height": null,
       "max_width": null,
       "min_height": null,
       "min_width": null,
       "object_fit": null,
       "object_position": null,
       "order": null,
       "overflow": null,
       "overflow_x": null,
       "overflow_y": null,
       "padding": null,
       "right": null,
       "top": null,
       "visibility": null,
       "width": null
      }
     },
     "104ddbb3b662438fa7c8f60513c9298e": {
      "model_module": "@jupyter-widgets/base",
      "model_module_version": "1.2.0",
      "model_name": "LayoutModel",
      "state": {
       "_model_module": "@jupyter-widgets/base",
       "_model_module_version": "1.2.0",
       "_model_name": "LayoutModel",
       "_view_count": null,
       "_view_module": "@jupyter-widgets/base",
       "_view_module_version": "1.2.0",
       "_view_name": "LayoutView",
       "align_content": null,
       "align_items": null,
       "align_self": null,
       "border": null,
       "bottom": null,
       "display": null,
       "flex": null,
       "flex_flow": null,
       "grid_area": null,
       "grid_auto_columns": null,
       "grid_auto_flow": null,
       "grid_auto_rows": null,
       "grid_column": null,
       "grid_gap": null,
       "grid_row": null,
       "grid_template_areas": null,
       "grid_template_columns": null,
       "grid_template_rows": null,
       "height": null,
       "justify_content": null,
       "justify_items": null,
       "left": null,
       "margin": null,
       "max_height": null,
       "max_width": null,
       "min_height": null,
       "min_width": null,
       "object_fit": null,
       "object_position": null,
       "order": null,
       "overflow": null,
       "overflow_x": null,
       "overflow_y": null,
       "padding": null,
       "right": null,
       "top": null,
       "visibility": null,
       "width": null
      }
     },
     "1051213374724114819ca428e0f5798b": {
      "model_module": "@jupyter-widgets/controls",
      "model_module_version": "1.5.0",
      "model_name": "HBoxModel",
      "state": {
       "_dom_classes": [],
       "_model_module": "@jupyter-widgets/controls",
       "_model_module_version": "1.5.0",
       "_model_name": "HBoxModel",
       "_view_count": null,
       "_view_module": "@jupyter-widgets/controls",
       "_view_module_version": "1.5.0",
       "_view_name": "HBoxView",
       "box_style": "",
       "children": [
        "IPY_MODEL_8ffa53f10ac24849aadfbd857aa62bfb",
        "IPY_MODEL_63a578ad49944682870d8b24b4bd97b3",
        "IPY_MODEL_740d50f70c3e47a3ab4df63fcb414637"
       ],
       "layout": "IPY_MODEL_f50d6b46ccec40ca82151a6b101924f3"
      }
     },
     "166292746dba4ce49ffe8026a4ed9352": {
      "model_module": "@jupyter-widgets/controls",
      "model_module_version": "1.5.0",
      "model_name": "HBoxModel",
      "state": {
       "_dom_classes": [],
       "_model_module": "@jupyter-widgets/controls",
       "_model_module_version": "1.5.0",
       "_model_name": "HBoxModel",
       "_view_count": null,
       "_view_module": "@jupyter-widgets/controls",
       "_view_module_version": "1.5.0",
       "_view_name": "HBoxView",
       "box_style": "",
       "children": [
        "IPY_MODEL_73a8cfa3029c45e7a56276017fd7df90",
        "IPY_MODEL_0134bf0afff747a1be9cd7b9cf5a1bcf",
        "IPY_MODEL_97889674922345e3a1abacaf8abad958"
       ],
       "layout": "IPY_MODEL_b8b0b0b7413a4adaa305424b418f30e4"
      }
     },
     "18115bae7cdc463b9b7bd2bdb885faa1": {
      "model_module": "@jupyter-widgets/controls",
      "model_module_version": "1.5.0",
      "model_name": "HBoxModel",
      "state": {
       "_dom_classes": [],
       "_model_module": "@jupyter-widgets/controls",
       "_model_module_version": "1.5.0",
       "_model_name": "HBoxModel",
       "_view_count": null,
       "_view_module": "@jupyter-widgets/controls",
       "_view_module_version": "1.5.0",
       "_view_name": "HBoxView",
       "box_style": "",
       "children": [
        "IPY_MODEL_f7f1a41e92234480ac2d4bbecb873efa",
        "IPY_MODEL_a2c986911c474e89955bfbbcec6e4905",
        "IPY_MODEL_07a90b48b8fb49c5ba8d92e24f37a54b"
       ],
       "layout": "IPY_MODEL_941e0341c476411eaae41191db6be23a"
      }
     },
     "197b572485964ce3921d7a0b6c1fcd37": {
      "model_module": "@jupyter-widgets/controls",
      "model_module_version": "1.5.0",
      "model_name": "DescriptionStyleModel",
      "state": {
       "_model_module": "@jupyter-widgets/controls",
       "_model_module_version": "1.5.0",
       "_model_name": "DescriptionStyleModel",
       "_view_count": null,
       "_view_module": "@jupyter-widgets/base",
       "_view_module_version": "1.2.0",
       "_view_name": "StyleView",
       "description_width": ""
      }
     },
     "1d61bb96fd024faa8098dbd80286b0f9": {
      "model_module": "@jupyter-widgets/controls",
      "model_module_version": "1.5.0",
      "model_name": "HTMLModel",
      "state": {
       "_dom_classes": [],
       "_model_module": "@jupyter-widgets/controls",
       "_model_module_version": "1.5.0",
       "_model_name": "HTMLModel",
       "_view_count": null,
       "_view_module": "@jupyter-widgets/controls",
       "_view_module_version": "1.5.0",
       "_view_name": "HTMLView",
       "description": "",
       "description_tooltip": null,
       "layout": "IPY_MODEL_59a86705a6474f44bf114620f64230e2",
       "placeholder": "​",
       "style": "IPY_MODEL_45570b9768fa4617b3da3cec7f2136c8",
       "value": " 891/891 [00:01&lt;00:00, 645.24it/s]"
      }
     },
     "1f3b51c9077347f3b7e86f7de322cae3": {
      "model_module": "@jupyter-widgets/controls",
      "model_module_version": "1.5.0",
      "model_name": "DescriptionStyleModel",
      "state": {
       "_model_module": "@jupyter-widgets/controls",
       "_model_module_version": "1.5.0",
       "_model_name": "DescriptionStyleModel",
       "_view_count": null,
       "_view_module": "@jupyter-widgets/base",
       "_view_module_version": "1.2.0",
       "_view_name": "StyleView",
       "description_width": ""
      }
     },
     "24f6768307ac401ba2ee1db2a8802bf0": {
      "model_module": "@jupyter-widgets/controls",
      "model_module_version": "1.5.0",
      "model_name": "HTMLModel",
      "state": {
       "_dom_classes": [],
       "_model_module": "@jupyter-widgets/controls",
       "_model_module_version": "1.5.0",
       "_model_name": "HTMLModel",
       "_view_count": null,
       "_view_module": "@jupyter-widgets/controls",
       "_view_module_version": "1.5.0",
       "_view_name": "HTMLView",
       "description": "",
       "description_tooltip": null,
       "layout": "IPY_MODEL_327c08b4665a4d79b655ae9e653cf380",
       "placeholder": "​",
       "style": "IPY_MODEL_f9217fea00ee430d818f2abedb3e7e19",
       "value": " 665/665 [00:00&lt;00:00, 22.5kB/s]"
      }
     },
     "26163566ca9c46e3bc0df64d90dd8c03": {
      "model_module": "@jupyter-widgets/base",
      "model_module_version": "1.2.0",
      "model_name": "LayoutModel",
      "state": {
       "_model_module": "@jupyter-widgets/base",
       "_model_module_version": "1.2.0",
       "_model_name": "LayoutModel",
       "_view_count": null,
       "_view_module": "@jupyter-widgets/base",
       "_view_module_version": "1.2.0",
       "_view_name": "LayoutView",
       "align_content": null,
       "align_items": null,
       "align_self": null,
       "border": null,
       "bottom": null,
       "display": null,
       "flex": null,
       "flex_flow": null,
       "grid_area": null,
       "grid_auto_columns": null,
       "grid_auto_flow": null,
       "grid_auto_rows": null,
       "grid_column": null,
       "grid_gap": null,
       "grid_row": null,
       "grid_template_areas": null,
       "grid_template_columns": null,
       "grid_template_rows": null,
       "height": null,
       "justify_content": null,
       "justify_items": null,
       "left": null,
       "margin": null,
       "max_height": null,
       "max_width": null,
       "min_height": null,
       "min_width": null,
       "object_fit": null,
       "object_position": null,
       "order": null,
       "overflow": null,
       "overflow_x": null,
       "overflow_y": null,
       "padding": null,
       "right": null,
       "top": null,
       "visibility": null,
       "width": null
      }
     },
     "270b40f1465640b38e4f601b146a1665": {
      "model_module": "@jupyter-widgets/base",
      "model_module_version": "1.2.0",
      "model_name": "LayoutModel",
      "state": {
       "_model_module": "@jupyter-widgets/base",
       "_model_module_version": "1.2.0",
       "_model_name": "LayoutModel",
       "_view_count": null,
       "_view_module": "@jupyter-widgets/base",
       "_view_module_version": "1.2.0",
       "_view_name": "LayoutView",
       "align_content": null,
       "align_items": null,
       "align_self": null,
       "border": null,
       "bottom": null,
       "display": null,
       "flex": null,
       "flex_flow": null,
       "grid_area": null,
       "grid_auto_columns": null,
       "grid_auto_flow": null,
       "grid_auto_rows": null,
       "grid_column": null,
       "grid_gap": null,
       "grid_row": null,
       "grid_template_areas": null,
       "grid_template_columns": null,
       "grid_template_rows": null,
       "height": null,
       "justify_content": null,
       "justify_items": null,
       "left": null,
       "margin": null,
       "max_height": null,
       "max_width": null,
       "min_height": null,
       "min_width": null,
       "object_fit": null,
       "object_position": null,
       "order": null,
       "overflow": null,
       "overflow_x": null,
       "overflow_y": null,
       "padding": null,
       "right": null,
       "top": null,
       "visibility": null,
       "width": null
      }
     },
     "2c8a1bf03aaf4e7cba76a2e3e4216855": {
      "model_module": "@jupyter-widgets/base",
      "model_module_version": "1.2.0",
      "model_name": "LayoutModel",
      "state": {
       "_model_module": "@jupyter-widgets/base",
       "_model_module_version": "1.2.0",
       "_model_name": "LayoutModel",
       "_view_count": null,
       "_view_module": "@jupyter-widgets/base",
       "_view_module_version": "1.2.0",
       "_view_name": "LayoutView",
       "align_content": null,
       "align_items": null,
       "align_self": null,
       "border": null,
       "bottom": null,
       "display": null,
       "flex": null,
       "flex_flow": null,
       "grid_area": null,
       "grid_auto_columns": null,
       "grid_auto_flow": null,
       "grid_auto_rows": null,
       "grid_column": null,
       "grid_gap": null,
       "grid_row": null,
       "grid_template_areas": null,
       "grid_template_columns": null,
       "grid_template_rows": null,
       "height": null,
       "justify_content": null,
       "justify_items": null,
       "left": null,
       "margin": null,
       "max_height": null,
       "max_width": null,
       "min_height": null,
       "min_width": null,
       "object_fit": null,
       "object_position": null,
       "order": null,
       "overflow": null,
       "overflow_x": null,
       "overflow_y": null,
       "padding": null,
       "right": null,
       "top": null,
       "visibility": null,
       "width": null
      }
     },
     "302de4e2f2b04eed926271baff3e2856": {
      "model_module": "@jupyter-widgets/controls",
      "model_module_version": "1.5.0",
      "model_name": "ProgressStyleModel",
      "state": {
       "_model_module": "@jupyter-widgets/controls",
       "_model_module_version": "1.5.0",
       "_model_name": "ProgressStyleModel",
       "_view_count": null,
       "_view_module": "@jupyter-widgets/base",
       "_view_module_version": "1.2.0",
       "_view_name": "StyleView",
       "bar_color": null,
       "description_width": ""
      }
     },
     "31701b94b9c248d0b658dc6d0ff8c17e": {
      "model_module": "@jupyter-widgets/controls",
      "model_module_version": "1.5.0",
      "model_name": "HTMLModel",
      "state": {
       "_dom_classes": [],
       "_model_module": "@jupyter-widgets/controls",
       "_model_module_version": "1.5.0",
       "_model_name": "HTMLModel",
       "_view_count": null,
       "_view_module": "@jupyter-widgets/controls",
       "_view_module_version": "1.5.0",
       "_view_name": "HTMLView",
       "description": "",
       "description_tooltip": null,
       "layout": "IPY_MODEL_2c8a1bf03aaf4e7cba76a2e3e4216855",
       "placeholder": "​",
       "style": "IPY_MODEL_83c1f5524fa74b9a8f7a5cf731952d5d",
       "value": "Downloading: 100%"
      }
     },
     "327c08b4665a4d79b655ae9e653cf380": {
      "model_module": "@jupyter-widgets/base",
      "model_module_version": "1.2.0",
      "model_name": "LayoutModel",
      "state": {
       "_model_module": "@jupyter-widgets/base",
       "_model_module_version": "1.2.0",
       "_model_name": "LayoutModel",
       "_view_count": null,
       "_view_module": "@jupyter-widgets/base",
       "_view_module_version": "1.2.0",
       "_view_name": "LayoutView",
       "align_content": null,
       "align_items": null,
       "align_self": null,
       "border": null,
       "bottom": null,
       "display": null,
       "flex": null,
       "flex_flow": null,
       "grid_area": null,
       "grid_auto_columns": null,
       "grid_auto_flow": null,
       "grid_auto_rows": null,
       "grid_column": null,
       "grid_gap": null,
       "grid_row": null,
       "grid_template_areas": null,
       "grid_template_columns": null,
       "grid_template_rows": null,
       "height": null,
       "justify_content": null,
       "justify_items": null,
       "left": null,
       "margin": null,
       "max_height": null,
       "max_width": null,
       "min_height": null,
       "min_width": null,
       "object_fit": null,
       "object_position": null,
       "order": null,
       "overflow": null,
       "overflow_x": null,
       "overflow_y": null,
       "padding": null,
       "right": null,
       "top": null,
       "visibility": null,
       "width": null
      }
     },
     "3af3190cb1754759a96f0220d078e05a": {
      "model_module": "@jupyter-widgets/controls",
      "model_module_version": "1.5.0",
      "model_name": "HBoxModel",
      "state": {
       "_dom_classes": [],
       "_model_module": "@jupyter-widgets/controls",
       "_model_module_version": "1.5.0",
       "_model_name": "HBoxModel",
       "_view_count": null,
       "_view_module": "@jupyter-widgets/controls",
       "_view_module_version": "1.5.0",
       "_view_name": "HBoxView",
       "box_style": "",
       "children": [
        "IPY_MODEL_31701b94b9c248d0b658dc6d0ff8c17e",
        "IPY_MODEL_dfbd37cdce5340e5aaf325cbe0763cab",
        "IPY_MODEL_24f6768307ac401ba2ee1db2a8802bf0"
       ],
       "layout": "IPY_MODEL_989e3bd36f364d1386174c595b475b90"
      }
     },
     "3e39ad2bc19c480780567f5ae1e73622": {
      "model_module": "@jupyter-widgets/base",
      "model_module_version": "1.2.0",
      "model_name": "LayoutModel",
      "state": {
       "_model_module": "@jupyter-widgets/base",
       "_model_module_version": "1.2.0",
       "_model_name": "LayoutModel",
       "_view_count": null,
       "_view_module": "@jupyter-widgets/base",
       "_view_module_version": "1.2.0",
       "_view_name": "LayoutView",
       "align_content": null,
       "align_items": null,
       "align_self": null,
       "border": null,
       "bottom": null,
       "display": null,
       "flex": null,
       "flex_flow": null,
       "grid_area": null,
       "grid_auto_columns": null,
       "grid_auto_flow": null,
       "grid_auto_rows": null,
       "grid_column": null,
       "grid_gap": null,
       "grid_row": null,
       "grid_template_areas": null,
       "grid_template_columns": null,
       "grid_template_rows": null,
       "height": null,
       "justify_content": null,
       "justify_items": null,
       "left": null,
       "margin": null,
       "max_height": null,
       "max_width": null,
       "min_height": null,
       "min_width": null,
       "object_fit": null,
       "object_position": null,
       "order": null,
       "overflow": null,
       "overflow_x": null,
       "overflow_y": null,
       "padding": null,
       "right": null,
       "top": null,
       "visibility": null,
       "width": null
      }
     },
     "45570b9768fa4617b3da3cec7f2136c8": {
      "model_module": "@jupyter-widgets/controls",
      "model_module_version": "1.5.0",
      "model_name": "DescriptionStyleModel",
      "state": {
       "_model_module": "@jupyter-widgets/controls",
       "_model_module_version": "1.5.0",
       "_model_name": "DescriptionStyleModel",
       "_view_count": null,
       "_view_module": "@jupyter-widgets/base",
       "_view_module_version": "1.2.0",
       "_view_name": "StyleView",
       "description_width": ""
      }
     },
     "4a1c518f19664d9e8b440130002dfcf6": {
      "model_module": "@jupyter-widgets/base",
      "model_module_version": "1.2.0",
      "model_name": "LayoutModel",
      "state": {
       "_model_module": "@jupyter-widgets/base",
       "_model_module_version": "1.2.0",
       "_model_name": "LayoutModel",
       "_view_count": null,
       "_view_module": "@jupyter-widgets/base",
       "_view_module_version": "1.2.0",
       "_view_name": "LayoutView",
       "align_content": null,
       "align_items": null,
       "align_self": null,
       "border": null,
       "bottom": null,
       "display": null,
       "flex": null,
       "flex_flow": null,
       "grid_area": null,
       "grid_auto_columns": null,
       "grid_auto_flow": null,
       "grid_auto_rows": null,
       "grid_column": null,
       "grid_gap": null,
       "grid_row": null,
       "grid_template_areas": null,
       "grid_template_columns": null,
       "grid_template_rows": null,
       "height": null,
       "justify_content": null,
       "justify_items": null,
       "left": null,
       "margin": null,
       "max_height": null,
       "max_width": null,
       "min_height": null,
       "min_width": null,
       "object_fit": null,
       "object_position": null,
       "order": null,
       "overflow": null,
       "overflow_x": null,
       "overflow_y": null,
       "padding": null,
       "right": null,
       "top": null,
       "visibility": null,
       "width": null
      }
     },
     "50912da7bb5840fcafb9c6bf98095b0b": {
      "model_module": "@jupyter-widgets/base",
      "model_module_version": "1.2.0",
      "model_name": "LayoutModel",
      "state": {
       "_model_module": "@jupyter-widgets/base",
       "_model_module_version": "1.2.0",
       "_model_name": "LayoutModel",
       "_view_count": null,
       "_view_module": "@jupyter-widgets/base",
       "_view_module_version": "1.2.0",
       "_view_name": "LayoutView",
       "align_content": null,
       "align_items": null,
       "align_self": null,
       "border": null,
       "bottom": null,
       "display": null,
       "flex": null,
       "flex_flow": null,
       "grid_area": null,
       "grid_auto_columns": null,
       "grid_auto_flow": null,
       "grid_auto_rows": null,
       "grid_column": null,
       "grid_gap": null,
       "grid_row": null,
       "grid_template_areas": null,
       "grid_template_columns": null,
       "grid_template_rows": null,
       "height": null,
       "justify_content": null,
       "justify_items": null,
       "left": null,
       "margin": null,
       "max_height": null,
       "max_width": null,
       "min_height": null,
       "min_width": null,
       "object_fit": null,
       "object_position": null,
       "order": null,
       "overflow": null,
       "overflow_x": null,
       "overflow_y": null,
       "padding": null,
       "right": null,
       "top": null,
       "visibility": null,
       "width": null
      }
     },
     "5462f775aae04b11a4cd93ac97368541": {
      "model_module": "@jupyter-widgets/controls",
      "model_module_version": "1.5.0",
      "model_name": "ProgressStyleModel",
      "state": {
       "_model_module": "@jupyter-widgets/controls",
       "_model_module_version": "1.5.0",
       "_model_name": "ProgressStyleModel",
       "_view_count": null,
       "_view_module": "@jupyter-widgets/base",
       "_view_module_version": "1.2.0",
       "_view_name": "StyleView",
       "bar_color": null,
       "description_width": ""
      }
     },
     "54ee1e9c6cd940c8a525f5cf20db2a16": {
      "model_module": "@jupyter-widgets/controls",
      "model_module_version": "1.5.0",
      "model_name": "DescriptionStyleModel",
      "state": {
       "_model_module": "@jupyter-widgets/controls",
       "_model_module_version": "1.5.0",
       "_model_name": "DescriptionStyleModel",
       "_view_count": null,
       "_view_module": "@jupyter-widgets/base",
       "_view_module_version": "1.2.0",
       "_view_name": "StyleView",
       "description_width": ""
      }
     },
     "5554888133bf4f619986448c166b76e5": {
      "model_module": "@jupyter-widgets/controls",
      "model_module_version": "1.5.0",
      "model_name": "ProgressStyleModel",
      "state": {
       "_model_module": "@jupyter-widgets/controls",
       "_model_module_version": "1.5.0",
       "_model_name": "ProgressStyleModel",
       "_view_count": null,
       "_view_module": "@jupyter-widgets/base",
       "_view_module_version": "1.2.0",
       "_view_name": "StyleView",
       "bar_color": null,
       "description_width": ""
      }
     },
     "59a86705a6474f44bf114620f64230e2": {
      "model_module": "@jupyter-widgets/base",
      "model_module_version": "1.2.0",
      "model_name": "LayoutModel",
      "state": {
       "_model_module": "@jupyter-widgets/base",
       "_model_module_version": "1.2.0",
       "_model_name": "LayoutModel",
       "_view_count": null,
       "_view_module": "@jupyter-widgets/base",
       "_view_module_version": "1.2.0",
       "_view_name": "LayoutView",
       "align_content": null,
       "align_items": null,
       "align_self": null,
       "border": null,
       "bottom": null,
       "display": null,
       "flex": null,
       "flex_flow": null,
       "grid_area": null,
       "grid_auto_columns": null,
       "grid_auto_flow": null,
       "grid_auto_rows": null,
       "grid_column": null,
       "grid_gap": null,
       "grid_row": null,
       "grid_template_areas": null,
       "grid_template_columns": null,
       "grid_template_rows": null,
       "height": null,
       "justify_content": null,
       "justify_items": null,
       "left": null,
       "margin": null,
       "max_height": null,
       "max_width": null,
       "min_height": null,
       "min_width": null,
       "object_fit": null,
       "object_position": null,
       "order": null,
       "overflow": null,
       "overflow_x": null,
       "overflow_y": null,
       "padding": null,
       "right": null,
       "top": null,
       "visibility": null,
       "width": null
      }
     },
     "5a46ef82123e4678b69e3c30a5370152": {
      "model_module": "@jupyter-widgets/controls",
      "model_module_version": "1.5.0",
      "model_name": "DescriptionStyleModel",
      "state": {
       "_model_module": "@jupyter-widgets/controls",
       "_model_module_version": "1.5.0",
       "_model_name": "DescriptionStyleModel",
       "_view_count": null,
       "_view_module": "@jupyter-widgets/base",
       "_view_module_version": "1.2.0",
       "_view_name": "StyleView",
       "description_width": ""
      }
     },
     "5e8336645d054f2d9fe7ea4121ff0ff7": {
      "model_module": "@jupyter-widgets/controls",
      "model_module_version": "1.5.0",
      "model_name": "ProgressStyleModel",
      "state": {
       "_model_module": "@jupyter-widgets/controls",
       "_model_module_version": "1.5.0",
       "_model_name": "ProgressStyleModel",
       "_view_count": null,
       "_view_module": "@jupyter-widgets/base",
       "_view_module_version": "1.2.0",
       "_view_name": "StyleView",
       "bar_color": null,
       "description_width": ""
      }
     },
     "61a1b77990004c5e9d01c484f6ac91e5": {
      "model_module": "@jupyter-widgets/base",
      "model_module_version": "1.2.0",
      "model_name": "LayoutModel",
      "state": {
       "_model_module": "@jupyter-widgets/base",
       "_model_module_version": "1.2.0",
       "_model_name": "LayoutModel",
       "_view_count": null,
       "_view_module": "@jupyter-widgets/base",
       "_view_module_version": "1.2.0",
       "_view_name": "LayoutView",
       "align_content": null,
       "align_items": null,
       "align_self": null,
       "border": null,
       "bottom": null,
       "display": null,
       "flex": null,
       "flex_flow": null,
       "grid_area": null,
       "grid_auto_columns": null,
       "grid_auto_flow": null,
       "grid_auto_rows": null,
       "grid_column": null,
       "grid_gap": null,
       "grid_row": null,
       "grid_template_areas": null,
       "grid_template_columns": null,
       "grid_template_rows": null,
       "height": null,
       "justify_content": null,
       "justify_items": null,
       "left": null,
       "margin": null,
       "max_height": null,
       "max_width": null,
       "min_height": null,
       "min_width": null,
       "object_fit": null,
       "object_position": null,
       "order": null,
       "overflow": null,
       "overflow_x": null,
       "overflow_y": null,
       "padding": null,
       "right": null,
       "top": null,
       "visibility": null,
       "width": null
      }
     },
     "63163422651242bea2c9658f48f96a87": {
      "model_module": "@jupyter-widgets/controls",
      "model_module_version": "1.5.0",
      "model_name": "ProgressStyleModel",
      "state": {
       "_model_module": "@jupyter-widgets/controls",
       "_model_module_version": "1.5.0",
       "_model_name": "ProgressStyleModel",
       "_view_count": null,
       "_view_module": "@jupyter-widgets/base",
       "_view_module_version": "1.2.0",
       "_view_name": "StyleView",
       "bar_color": null,
       "description_width": ""
      }
     },
     "63a578ad49944682870d8b24b4bd97b3": {
      "model_module": "@jupyter-widgets/controls",
      "model_module_version": "1.5.0",
      "model_name": "FloatProgressModel",
      "state": {
       "_dom_classes": [],
       "_model_module": "@jupyter-widgets/controls",
       "_model_module_version": "1.5.0",
       "_model_name": "FloatProgressModel",
       "_view_count": null,
       "_view_module": "@jupyter-widgets/controls",
       "_view_module_version": "1.5.0",
       "_view_name": "ProgressView",
       "bar_style": "success",
       "description": "",
       "description_tooltip": null,
       "layout": "IPY_MODEL_ead587a723ab49818d5cc338b18a471c",
       "max": 1355256.0,
       "min": 0.0,
       "orientation": "horizontal",
       "style": "IPY_MODEL_5554888133bf4f619986448c166b76e5",
       "value": 1355256.0
      }
     },
     "71626e62837b4e588bd5c9f519146d0a": {
      "model_module": "@jupyter-widgets/base",
      "model_module_version": "1.2.0",
      "model_name": "LayoutModel",
      "state": {
       "_model_module": "@jupyter-widgets/base",
       "_model_module_version": "1.2.0",
       "_model_name": "LayoutModel",
       "_view_count": null,
       "_view_module": "@jupyter-widgets/base",
       "_view_module_version": "1.2.0",
       "_view_name": "LayoutView",
       "align_content": null,
       "align_items": null,
       "align_self": null,
       "border": null,
       "bottom": null,
       "display": null,
       "flex": null,
       "flex_flow": null,
       "grid_area": null,
       "grid_auto_columns": null,
       "grid_auto_flow": null,
       "grid_auto_rows": null,
       "grid_column": null,
       "grid_gap": null,
       "grid_row": null,
       "grid_template_areas": null,
       "grid_template_columns": null,
       "grid_template_rows": null,
       "height": null,
       "justify_content": null,
       "justify_items": null,
       "left": null,
       "margin": null,
       "max_height": null,
       "max_width": null,
       "min_height": null,
       "min_width": null,
       "object_fit": null,
       "object_position": null,
       "order": null,
       "overflow": null,
       "overflow_x": null,
       "overflow_y": null,
       "padding": null,
       "right": null,
       "top": null,
       "visibility": null,
       "width": null
      }
     },
     "73a8cfa3029c45e7a56276017fd7df90": {
      "model_module": "@jupyter-widgets/controls",
      "model_module_version": "1.5.0",
      "model_name": "HTMLModel",
      "state": {
       "_dom_classes": [],
       "_model_module": "@jupyter-widgets/controls",
       "_model_module_version": "1.5.0",
       "_model_name": "HTMLModel",
       "_view_count": null,
       "_view_module": "@jupyter-widgets/controls",
       "_view_module_version": "1.5.0",
       "_view_name": "HTMLView",
       "description": "",
       "description_tooltip": null,
       "layout": "IPY_MODEL_b6033732e3ce450d944f6a06aab8808f",
       "placeholder": "​",
       "style": "IPY_MODEL_b285a7edfea645a59747e2254fbc4f73",
       "value": "Downloading: 100%"
      }
     },
     "740d50f70c3e47a3ab4df63fcb414637": {
      "model_module": "@jupyter-widgets/controls",
      "model_module_version": "1.5.0",
      "model_name": "HTMLModel",
      "state": {
       "_dom_classes": [],
       "_model_module": "@jupyter-widgets/controls",
       "_model_module_version": "1.5.0",
       "_model_name": "HTMLModel",
       "_view_count": null,
       "_view_module": "@jupyter-widgets/controls",
       "_view_module_version": "1.5.0",
       "_view_name": "HTMLView",
       "description": "",
       "description_tooltip": null,
       "layout": "IPY_MODEL_91845d108fe94849911d79cc7aea9c1c",
       "placeholder": "​",
       "style": "IPY_MODEL_ac17b97a1c524846834a6889904edc67",
       "value": " 1.29M/1.29M [00:00&lt;00:00, 6.40MB/s]"
      }
     },
     "75cdd93eee864845a9688d3d96650123": {
      "model_module": "@jupyter-widgets/controls",
      "model_module_version": "1.5.0",
      "model_name": "DescriptionStyleModel",
      "state": {
       "_model_module": "@jupyter-widgets/controls",
       "_model_module_version": "1.5.0",
       "_model_name": "DescriptionStyleModel",
       "_view_count": null,
       "_view_module": "@jupyter-widgets/base",
       "_view_module_version": "1.2.0",
       "_view_name": "StyleView",
       "description_width": ""
      }
     },
     "7cf63969fe974c688444502e267d1ce9": {
      "model_module": "@jupyter-widgets/base",
      "model_module_version": "1.2.0",
      "model_name": "LayoutModel",
      "state": {
       "_model_module": "@jupyter-widgets/base",
       "_model_module_version": "1.2.0",
       "_model_name": "LayoutModel",
       "_view_count": null,
       "_view_module": "@jupyter-widgets/base",
       "_view_module_version": "1.2.0",
       "_view_name": "LayoutView",
       "align_content": null,
       "align_items": null,
       "align_self": null,
       "border": null,
       "bottom": null,
       "display": null,
       "flex": null,
       "flex_flow": null,
       "grid_area": null,
       "grid_auto_columns": null,
       "grid_auto_flow": null,
       "grid_auto_rows": null,
       "grid_column": null,
       "grid_gap": null,
       "grid_row": null,
       "grid_template_areas": null,
       "grid_template_columns": null,
       "grid_template_rows": null,
       "height": null,
       "justify_content": null,
       "justify_items": null,
       "left": null,
       "margin": null,
       "max_height": null,
       "max_width": null,
       "min_height": null,
       "min_width": null,
       "object_fit": null,
       "object_position": null,
       "order": null,
       "overflow": null,
       "overflow_x": null,
       "overflow_y": null,
       "padding": null,
       "right": null,
       "top": null,
       "visibility": null,
       "width": null
      }
     },
     "7e8abf7d580944c09bfc9d712aa01b4b": {
      "model_module": "@jupyter-widgets/base",
      "model_module_version": "1.2.0",
      "model_name": "LayoutModel",
      "state": {
       "_model_module": "@jupyter-widgets/base",
       "_model_module_version": "1.2.0",
       "_model_name": "LayoutModel",
       "_view_count": null,
       "_view_module": "@jupyter-widgets/base",
       "_view_module_version": "1.2.0",
       "_view_name": "LayoutView",
       "align_content": null,
       "align_items": null,
       "align_self": null,
       "border": null,
       "bottom": null,
       "display": null,
       "flex": null,
       "flex_flow": null,
       "grid_area": null,
       "grid_auto_columns": null,
       "grid_auto_flow": null,
       "grid_auto_rows": null,
       "grid_column": null,
       "grid_gap": null,
       "grid_row": null,
       "grid_template_areas": null,
       "grid_template_columns": null,
       "grid_template_rows": null,
       "height": null,
       "justify_content": null,
       "justify_items": null,
       "left": null,
       "margin": null,
       "max_height": null,
       "max_width": null,
       "min_height": null,
       "min_width": null,
       "object_fit": null,
       "object_position": null,
       "order": null,
       "overflow": null,
       "overflow_x": null,
       "overflow_y": null,
       "padding": null,
       "right": null,
       "top": null,
       "visibility": null,
       "width": null
      }
     },
     "83c1f5524fa74b9a8f7a5cf731952d5d": {
      "model_module": "@jupyter-widgets/controls",
      "model_module_version": "1.5.0",
      "model_name": "DescriptionStyleModel",
      "state": {
       "_model_module": "@jupyter-widgets/controls",
       "_model_module_version": "1.5.0",
       "_model_name": "DescriptionStyleModel",
       "_view_count": null,
       "_view_module": "@jupyter-widgets/base",
       "_view_module_version": "1.2.0",
       "_view_name": "StyleView",
       "description_width": ""
      }
     },
     "8578c2925b98422ea62c59c6588c00f1": {
      "model_module": "@jupyter-widgets/controls",
      "model_module_version": "1.5.0",
      "model_name": "HTMLModel",
      "state": {
       "_dom_classes": [],
       "_model_module": "@jupyter-widgets/controls",
       "_model_module_version": "1.5.0",
       "_model_name": "HTMLModel",
       "_view_count": null,
       "_view_module": "@jupyter-widgets/controls",
       "_view_module_version": "1.5.0",
       "_view_name": "HTMLView",
       "description": "",
       "description_tooltip": null,
       "layout": "IPY_MODEL_0f5e4d7085ef4fd2806893adf46e2492",
       "placeholder": "​",
       "style": "IPY_MODEL_197b572485964ce3921d7a0b6c1fcd37",
       "value": "100%"
      }
     },
     "88173a37dabb44f281d0c82315e25f7d": {
      "model_module": "@jupyter-widgets/controls",
      "model_module_version": "1.5.0",
      "model_name": "FloatProgressModel",
      "state": {
       "_dom_classes": [],
       "_model_module": "@jupyter-widgets/controls",
       "_model_module_version": "1.5.0",
       "_model_name": "FloatProgressModel",
       "_view_count": null,
       "_view_module": "@jupyter-widgets/controls",
       "_view_module_version": "1.5.0",
       "_view_name": "ProgressView",
       "bar_style": "success",
       "description": "",
       "description_tooltip": null,
       "layout": "IPY_MODEL_50912da7bb5840fcafb9c6bf98095b0b",
       "max": 5047.0,
       "min": 0.0,
       "orientation": "horizontal",
       "style": "IPY_MODEL_f20ace35ba3d41aabc2e0fc73243f797",
       "value": 5047.0
      }
     },
     "8ffa53f10ac24849aadfbd857aa62bfb": {
      "model_module": "@jupyter-widgets/controls",
      "model_module_version": "1.5.0",
      "model_name": "HTMLModel",
      "state": {
       "_dom_classes": [],
       "_model_module": "@jupyter-widgets/controls",
       "_model_module_version": "1.5.0",
       "_model_name": "HTMLModel",
       "_view_count": null,
       "_view_module": "@jupyter-widgets/controls",
       "_view_module_version": "1.5.0",
       "_view_name": "HTMLView",
       "description": "",
       "description_tooltip": null,
       "layout": "IPY_MODEL_71626e62837b4e588bd5c9f519146d0a",
       "placeholder": "​",
       "style": "IPY_MODEL_9307d3b0cd69455fb76a634aab9cd47a",
       "value": "Downloading: 100%"
      }
     },
     "91845d108fe94849911d79cc7aea9c1c": {
      "model_module": "@jupyter-widgets/base",
      "model_module_version": "1.2.0",
      "model_name": "LayoutModel",
      "state": {
       "_model_module": "@jupyter-widgets/base",
       "_model_module_version": "1.2.0",
       "_model_name": "LayoutModel",
       "_view_count": null,
       "_view_module": "@jupyter-widgets/base",
       "_view_module_version": "1.2.0",
       "_view_name": "LayoutView",
       "align_content": null,
       "align_items": null,
       "align_self": null,
       "border": null,
       "bottom": null,
       "display": null,
       "flex": null,
       "flex_flow": null,
       "grid_area": null,
       "grid_auto_columns": null,
       "grid_auto_flow": null,
       "grid_auto_rows": null,
       "grid_column": null,
       "grid_gap": null,
       "grid_row": null,
       "grid_template_areas": null,
       "grid_template_columns": null,
       "grid_template_rows": null,
       "height": null,
       "justify_content": null,
       "justify_items": null,
       "left": null,
       "margin": null,
       "max_height": null,
       "max_width": null,
       "min_height": null,
       "min_width": null,
       "object_fit": null,
       "object_position": null,
       "order": null,
       "overflow": null,
       "overflow_x": null,
       "overflow_y": null,
       "padding": null,
       "right": null,
       "top": null,
       "visibility": null,
       "width": null
      }
     },
     "9307d3b0cd69455fb76a634aab9cd47a": {
      "model_module": "@jupyter-widgets/controls",
      "model_module_version": "1.5.0",
      "model_name": "DescriptionStyleModel",
      "state": {
       "_model_module": "@jupyter-widgets/controls",
       "_model_module_version": "1.5.0",
       "_model_name": "DescriptionStyleModel",
       "_view_count": null,
       "_view_module": "@jupyter-widgets/base",
       "_view_module_version": "1.2.0",
       "_view_name": "StyleView",
       "description_width": ""
      }
     },
     "941e0341c476411eaae41191db6be23a": {
      "model_module": "@jupyter-widgets/base",
      "model_module_version": "1.2.0",
      "model_name": "LayoutModel",
      "state": {
       "_model_module": "@jupyter-widgets/base",
       "_model_module_version": "1.2.0",
       "_model_name": "LayoutModel",
       "_view_count": null,
       "_view_module": "@jupyter-widgets/base",
       "_view_module_version": "1.2.0",
       "_view_name": "LayoutView",
       "align_content": null,
       "align_items": null,
       "align_self": null,
       "border": null,
       "bottom": null,
       "display": null,
       "flex": null,
       "flex_flow": null,
       "grid_area": null,
       "grid_auto_columns": null,
       "grid_auto_flow": null,
       "grid_auto_rows": null,
       "grid_column": null,
       "grid_gap": null,
       "grid_row": null,
       "grid_template_areas": null,
       "grid_template_columns": null,
       "grid_template_rows": null,
       "height": null,
       "justify_content": null,
       "justify_items": null,
       "left": null,
       "margin": null,
       "max_height": null,
       "max_width": null,
       "min_height": null,
       "min_width": null,
       "object_fit": null,
       "object_position": null,
       "order": null,
       "overflow": null,
       "overflow_x": null,
       "overflow_y": null,
       "padding": null,
       "right": null,
       "top": null,
       "visibility": null,
       "width": null
      }
     },
     "9743b8e0afc54967964c730c12280636": {
      "model_module": "@jupyter-widgets/controls",
      "model_module_version": "1.5.0",
      "model_name": "DescriptionStyleModel",
      "state": {
       "_model_module": "@jupyter-widgets/controls",
       "_model_module_version": "1.5.0",
       "_model_name": "DescriptionStyleModel",
       "_view_count": null,
       "_view_module": "@jupyter-widgets/base",
       "_view_module_version": "1.2.0",
       "_view_name": "StyleView",
       "description_width": ""
      }
     },
     "97889674922345e3a1abacaf8abad958": {
      "model_module": "@jupyter-widgets/controls",
      "model_module_version": "1.5.0",
      "model_name": "HTMLModel",
      "state": {
       "_dom_classes": [],
       "_model_module": "@jupyter-widgets/controls",
       "_model_module_version": "1.5.0",
       "_model_name": "HTMLModel",
       "_view_count": null,
       "_view_module": "@jupyter-widgets/controls",
       "_view_module_version": "1.5.0",
       "_view_name": "HTMLView",
       "description": "",
       "description_tooltip": null,
       "layout": "IPY_MODEL_270b40f1465640b38e4f601b146a1665",
       "placeholder": "​",
       "style": "IPY_MODEL_1f3b51c9077347f3b7e86f7de322cae3",
       "value": " 523M/523M [00:20&lt;00:00, 30.2MB/s]"
      }
     },
     "989e3bd36f364d1386174c595b475b90": {
      "model_module": "@jupyter-widgets/base",
      "model_module_version": "1.2.0",
      "model_name": "LayoutModel",
      "state": {
       "_model_module": "@jupyter-widgets/base",
       "_model_module_version": "1.2.0",
       "_model_name": "LayoutModel",
       "_view_count": null,
       "_view_module": "@jupyter-widgets/base",
       "_view_module_version": "1.2.0",
       "_view_name": "LayoutView",
       "align_content": null,
       "align_items": null,
       "align_self": null,
       "border": null,
       "bottom": null,
       "display": null,
       "flex": null,
       "flex_flow": null,
       "grid_area": null,
       "grid_auto_columns": null,
       "grid_auto_flow": null,
       "grid_auto_rows": null,
       "grid_column": null,
       "grid_gap": null,
       "grid_row": null,
       "grid_template_areas": null,
       "grid_template_columns": null,
       "grid_template_rows": null,
       "height": null,
       "justify_content": null,
       "justify_items": null,
       "left": null,
       "margin": null,
       "max_height": null,
       "max_width": null,
       "min_height": null,
       "min_width": null,
       "object_fit": null,
       "object_position": null,
       "order": null,
       "overflow": null,
       "overflow_x": null,
       "overflow_y": null,
       "padding": null,
       "right": null,
       "top": null,
       "visibility": null,
       "width": null
      }
     },
     "9e3a90696ab941d0a7c0041db2213370": {
      "model_module": "@jupyter-widgets/controls",
      "model_module_version": "1.5.0",
      "model_name": "HTMLModel",
      "state": {
       "_dom_classes": [],
       "_model_module": "@jupyter-widgets/controls",
       "_model_module_version": "1.5.0",
       "_model_name": "HTMLModel",
       "_view_count": null,
       "_view_module": "@jupyter-widgets/controls",
       "_view_module_version": "1.5.0",
       "_view_name": "HTMLView",
       "description": "",
       "description_tooltip": null,
       "layout": "IPY_MODEL_61a1b77990004c5e9d01c484f6ac91e5",
       "placeholder": "​",
       "style": "IPY_MODEL_ce22b01d32fe4ce8a55ddba296646ab1",
       "value": "100%"
      }
     },
     "a2c986911c474e89955bfbbcec6e4905": {
      "model_module": "@jupyter-widgets/controls",
      "model_module_version": "1.5.0",
      "model_name": "FloatProgressModel",
      "state": {
       "_dom_classes": [],
       "_model_module": "@jupyter-widgets/controls",
       "_model_module_version": "1.5.0",
       "_model_name": "FloatProgressModel",
       "_view_count": null,
       "_view_module": "@jupyter-widgets/controls",
       "_view_module_version": "1.5.0",
       "_view_name": "ProgressView",
       "bar_style": "success",
       "description": "",
       "description_tooltip": null,
       "layout": "IPY_MODEL_26163566ca9c46e3bc0df64d90dd8c03",
       "max": 1042301.0,
       "min": 0.0,
       "orientation": "horizontal",
       "style": "IPY_MODEL_5462f775aae04b11a4cd93ac97368541",
       "value": 1042301.0
      }
     },
     "a334028343104bea8f588ff9e5da2ce3": {
      "model_module": "@jupyter-widgets/controls",
      "model_module_version": "1.5.0",
      "model_name": "DescriptionStyleModel",
      "state": {
       "_model_module": "@jupyter-widgets/controls",
       "_model_module_version": "1.5.0",
       "_model_name": "DescriptionStyleModel",
       "_view_count": null,
       "_view_module": "@jupyter-widgets/base",
       "_view_module_version": "1.2.0",
       "_view_name": "StyleView",
       "description_width": ""
      }
     },
     "ac17b97a1c524846834a6889904edc67": {
      "model_module": "@jupyter-widgets/controls",
      "model_module_version": "1.5.0",
      "model_name": "DescriptionStyleModel",
      "state": {
       "_model_module": "@jupyter-widgets/controls",
       "_model_module_version": "1.5.0",
       "_model_name": "DescriptionStyleModel",
       "_view_count": null,
       "_view_module": "@jupyter-widgets/base",
       "_view_module_version": "1.2.0",
       "_view_name": "StyleView",
       "description_width": ""
      }
     },
     "b285a7edfea645a59747e2254fbc4f73": {
      "model_module": "@jupyter-widgets/controls",
      "model_module_version": "1.5.0",
      "model_name": "DescriptionStyleModel",
      "state": {
       "_model_module": "@jupyter-widgets/controls",
       "_model_module_version": "1.5.0",
       "_model_name": "DescriptionStyleModel",
       "_view_count": null,
       "_view_module": "@jupyter-widgets/base",
       "_view_module_version": "1.2.0",
       "_view_name": "StyleView",
       "description_width": ""
      }
     },
     "b6033732e3ce450d944f6a06aab8808f": {
      "model_module": "@jupyter-widgets/base",
      "model_module_version": "1.2.0",
      "model_name": "LayoutModel",
      "state": {
       "_model_module": "@jupyter-widgets/base",
       "_model_module_version": "1.2.0",
       "_model_name": "LayoutModel",
       "_view_count": null,
       "_view_module": "@jupyter-widgets/base",
       "_view_module_version": "1.2.0",
       "_view_name": "LayoutView",
       "align_content": null,
       "align_items": null,
       "align_self": null,
       "border": null,
       "bottom": null,
       "display": null,
       "flex": null,
       "flex_flow": null,
       "grid_area": null,
       "grid_auto_columns": null,
       "grid_auto_flow": null,
       "grid_auto_rows": null,
       "grid_column": null,
       "grid_gap": null,
       "grid_row": null,
       "grid_template_areas": null,
       "grid_template_columns": null,
       "grid_template_rows": null,
       "height": null,
       "justify_content": null,
       "justify_items": null,
       "left": null,
       "margin": null,
       "max_height": null,
       "max_width": null,
       "min_height": null,
       "min_width": null,
       "object_fit": null,
       "object_position": null,
       "order": null,
       "overflow": null,
       "overflow_x": null,
       "overflow_y": null,
       "padding": null,
       "right": null,
       "top": null,
       "visibility": null,
       "width": null
      }
     },
     "b686c9e983ba475c9a147f6621c7278d": {
      "model_module": "@jupyter-widgets/base",
      "model_module_version": "1.2.0",
      "model_name": "LayoutModel",
      "state": {
       "_model_module": "@jupyter-widgets/base",
       "_model_module_version": "1.2.0",
       "_model_name": "LayoutModel",
       "_view_count": null,
       "_view_module": "@jupyter-widgets/base",
       "_view_module_version": "1.2.0",
       "_view_name": "LayoutView",
       "align_content": null,
       "align_items": null,
       "align_self": null,
       "border": null,
       "bottom": null,
       "display": null,
       "flex": null,
       "flex_flow": null,
       "grid_area": null,
       "grid_auto_columns": null,
       "grid_auto_flow": null,
       "grid_auto_rows": null,
       "grid_column": null,
       "grid_gap": null,
       "grid_row": null,
       "grid_template_areas": null,
       "grid_template_columns": null,
       "grid_template_rows": null,
       "height": null,
       "justify_content": null,
       "justify_items": null,
       "left": null,
       "margin": null,
       "max_height": null,
       "max_width": null,
       "min_height": null,
       "min_width": null,
       "object_fit": null,
       "object_position": null,
       "order": null,
       "overflow": null,
       "overflow_x": null,
       "overflow_y": null,
       "padding": null,
       "right": null,
       "top": null,
       "visibility": null,
       "width": null
      }
     },
     "b8b0b0b7413a4adaa305424b418f30e4": {
      "model_module": "@jupyter-widgets/base",
      "model_module_version": "1.2.0",
      "model_name": "LayoutModel",
      "state": {
       "_model_module": "@jupyter-widgets/base",
       "_model_module_version": "1.2.0",
       "_model_name": "LayoutModel",
       "_view_count": null,
       "_view_module": "@jupyter-widgets/base",
       "_view_module_version": "1.2.0",
       "_view_name": "LayoutView",
       "align_content": null,
       "align_items": null,
       "align_self": null,
       "border": null,
       "bottom": null,
       "display": null,
       "flex": null,
       "flex_flow": null,
       "grid_area": null,
       "grid_auto_columns": null,
       "grid_auto_flow": null,
       "grid_auto_rows": null,
       "grid_column": null,
       "grid_gap": null,
       "grid_row": null,
       "grid_template_areas": null,
       "grid_template_columns": null,
       "grid_template_rows": null,
       "height": null,
       "justify_content": null,
       "justify_items": null,
       "left": null,
       "margin": null,
       "max_height": null,
       "max_width": null,
       "min_height": null,
       "min_width": null,
       "object_fit": null,
       "object_position": null,
       "order": null,
       "overflow": null,
       "overflow_x": null,
       "overflow_y": null,
       "padding": null,
       "right": null,
       "top": null,
       "visibility": null,
       "width": null
      }
     },
     "ba044dac2c34420f9f6a9c7d7e575e11": {
      "model_module": "@jupyter-widgets/controls",
      "model_module_version": "1.5.0",
      "model_name": "HBoxModel",
      "state": {
       "_dom_classes": [],
       "_model_module": "@jupyter-widgets/controls",
       "_model_module_version": "1.5.0",
       "_model_name": "HBoxModel",
       "_view_count": null,
       "_view_module": "@jupyter-widgets/controls",
       "_view_module_version": "1.5.0",
       "_view_name": "HBoxView",
       "box_style": "",
       "children": [
        "IPY_MODEL_8578c2925b98422ea62c59c6588c00f1",
        "IPY_MODEL_88173a37dabb44f281d0c82315e25f7d",
        "IPY_MODEL_037c2cbfcdf347f08e33f49b77cdc33f"
       ],
       "layout": "IPY_MODEL_d07c3fb1297746208cf1b4f81931a6a5"
      }
     },
     "c00734a4bc7347b0bfbf364d781ed7d7": {
      "model_module": "@jupyter-widgets/base",
      "model_module_version": "1.2.0",
      "model_name": "LayoutModel",
      "state": {
       "_model_module": "@jupyter-widgets/base",
       "_model_module_version": "1.2.0",
       "_model_name": "LayoutModel",
       "_view_count": null,
       "_view_module": "@jupyter-widgets/base",
       "_view_module_version": "1.2.0",
       "_view_name": "LayoutView",
       "align_content": null,
       "align_items": null,
       "align_self": null,
       "border": null,
       "bottom": null,
       "display": null,
       "flex": null,
       "flex_flow": null,
       "grid_area": null,
       "grid_auto_columns": null,
       "grid_auto_flow": null,
       "grid_auto_rows": null,
       "grid_column": null,
       "grid_gap": null,
       "grid_row": null,
       "grid_template_areas": null,
       "grid_template_columns": null,
       "grid_template_rows": null,
       "height": null,
       "justify_content": null,
       "justify_items": null,
       "left": null,
       "margin": null,
       "max_height": null,
       "max_width": null,
       "min_height": null,
       "min_width": null,
       "object_fit": null,
       "object_position": null,
       "order": null,
       "overflow": null,
       "overflow_x": null,
       "overflow_y": null,
       "padding": null,
       "right": null,
       "top": null,
       "visibility": null,
       "width": null
      }
     },
     "c8559d87433c47409370c07201e86de8": {
      "model_module": "@jupyter-widgets/controls",
      "model_module_version": "1.5.0",
      "model_name": "HBoxModel",
      "state": {
       "_dom_classes": [],
       "_model_module": "@jupyter-widgets/controls",
       "_model_module_version": "1.5.0",
       "_model_name": "HBoxModel",
       "_view_count": null,
       "_view_module": "@jupyter-widgets/controls",
       "_view_module_version": "1.5.0",
       "_view_name": "HBoxView",
       "box_style": "",
       "children": [
        "IPY_MODEL_cd5c4f48e26248bbb1bbc8ee7ba2f37d",
        "IPY_MODEL_02d5878ab1674793a6dfbffa7f386db8",
        "IPY_MODEL_ffdb9c4fae204c3da799d3d010608f45"
       ],
       "layout": "IPY_MODEL_f3ab3cf26fb44d1f8640a632c9a989c9"
      }
     },
     "c9c3ee9490344fd78288862ca48f932c": {
      "model_module": "@jupyter-widgets/base",
      "model_module_version": "1.2.0",
      "model_name": "LayoutModel",
      "state": {
       "_model_module": "@jupyter-widgets/base",
       "_model_module_version": "1.2.0",
       "_model_name": "LayoutModel",
       "_view_count": null,
       "_view_module": "@jupyter-widgets/base",
       "_view_module_version": "1.2.0",
       "_view_name": "LayoutView",
       "align_content": null,
       "align_items": null,
       "align_self": null,
       "border": null,
       "bottom": null,
       "display": null,
       "flex": null,
       "flex_flow": null,
       "grid_area": null,
       "grid_auto_columns": null,
       "grid_auto_flow": null,
       "grid_auto_rows": null,
       "grid_column": null,
       "grid_gap": null,
       "grid_row": null,
       "grid_template_areas": null,
       "grid_template_columns": null,
       "grid_template_rows": null,
       "height": null,
       "justify_content": null,
       "justify_items": null,
       "left": null,
       "margin": null,
       "max_height": null,
       "max_width": null,
       "min_height": null,
       "min_width": null,
       "object_fit": null,
       "object_position": null,
       "order": null,
       "overflow": null,
       "overflow_x": null,
       "overflow_y": null,
       "padding": null,
       "right": null,
       "top": null,
       "visibility": null,
       "width": null
      }
     },
     "cd5c4f48e26248bbb1bbc8ee7ba2f37d": {
      "model_module": "@jupyter-widgets/controls",
      "model_module_version": "1.5.0",
      "model_name": "HTMLModel",
      "state": {
       "_dom_classes": [],
       "_model_module": "@jupyter-widgets/controls",
       "_model_module_version": "1.5.0",
       "_model_name": "HTMLModel",
       "_view_count": null,
       "_view_module": "@jupyter-widgets/controls",
       "_view_module_version": "1.5.0",
       "_view_name": "HTMLView",
       "description": "",
       "description_tooltip": null,
       "layout": "IPY_MODEL_08ecce096a3f474ab22b02a677e9a15e",
       "placeholder": "​",
       "style": "IPY_MODEL_75cdd93eee864845a9688d3d96650123",
       "value": "Downloading: 100%"
      }
     },
     "ce22b01d32fe4ce8a55ddba296646ab1": {
      "model_module": "@jupyter-widgets/controls",
      "model_module_version": "1.5.0",
      "model_name": "DescriptionStyleModel",
      "state": {
       "_model_module": "@jupyter-widgets/controls",
       "_model_module_version": "1.5.0",
       "_model_name": "DescriptionStyleModel",
       "_view_count": null,
       "_view_module": "@jupyter-widgets/base",
       "_view_module_version": "1.2.0",
       "_view_name": "StyleView",
       "description_width": ""
      }
     },
     "d07c3fb1297746208cf1b4f81931a6a5": {
      "model_module": "@jupyter-widgets/base",
      "model_module_version": "1.2.0",
      "model_name": "LayoutModel",
      "state": {
       "_model_module": "@jupyter-widgets/base",
       "_model_module_version": "1.2.0",
       "_model_name": "LayoutModel",
       "_view_count": null,
       "_view_module": "@jupyter-widgets/base",
       "_view_module_version": "1.2.0",
       "_view_name": "LayoutView",
       "align_content": null,
       "align_items": null,
       "align_self": null,
       "border": null,
       "bottom": null,
       "display": null,
       "flex": null,
       "flex_flow": null,
       "grid_area": null,
       "grid_auto_columns": null,
       "grid_auto_flow": null,
       "grid_auto_rows": null,
       "grid_column": null,
       "grid_gap": null,
       "grid_row": null,
       "grid_template_areas": null,
       "grid_template_columns": null,
       "grid_template_rows": null,
       "height": null,
       "justify_content": null,
       "justify_items": null,
       "left": null,
       "margin": null,
       "max_height": null,
       "max_width": null,
       "min_height": null,
       "min_width": null,
       "object_fit": null,
       "object_position": null,
       "order": null,
       "overflow": null,
       "overflow_x": null,
       "overflow_y": null,
       "padding": null,
       "right": null,
       "top": null,
       "visibility": null,
       "width": null
      }
     },
     "dfbd37cdce5340e5aaf325cbe0763cab": {
      "model_module": "@jupyter-widgets/controls",
      "model_module_version": "1.5.0",
      "model_name": "FloatProgressModel",
      "state": {
       "_dom_classes": [],
       "_model_module": "@jupyter-widgets/controls",
       "_model_module_version": "1.5.0",
       "_model_name": "FloatProgressModel",
       "_view_count": null,
       "_view_module": "@jupyter-widgets/controls",
       "_view_module_version": "1.5.0",
       "_view_name": "ProgressView",
       "bar_style": "success",
       "description": "",
       "description_tooltip": null,
       "layout": "IPY_MODEL_e25b984cac5b44ea93500411bf7e3b10",
       "max": 665.0,
       "min": 0.0,
       "orientation": "horizontal",
       "style": "IPY_MODEL_63163422651242bea2c9658f48f96a87",
       "value": 665.0
      }
     },
     "e25b984cac5b44ea93500411bf7e3b10": {
      "model_module": "@jupyter-widgets/base",
      "model_module_version": "1.2.0",
      "model_name": "LayoutModel",
      "state": {
       "_model_module": "@jupyter-widgets/base",
       "_model_module_version": "1.2.0",
       "_model_name": "LayoutModel",
       "_view_count": null,
       "_view_module": "@jupyter-widgets/base",
       "_view_module_version": "1.2.0",
       "_view_name": "LayoutView",
       "align_content": null,
       "align_items": null,
       "align_self": null,
       "border": null,
       "bottom": null,
       "display": null,
       "flex": null,
       "flex_flow": null,
       "grid_area": null,
       "grid_auto_columns": null,
       "grid_auto_flow": null,
       "grid_auto_rows": null,
       "grid_column": null,
       "grid_gap": null,
       "grid_row": null,
       "grid_template_areas": null,
       "grid_template_columns": null,
       "grid_template_rows": null,
       "height": null,
       "justify_content": null,
       "justify_items": null,
       "left": null,
       "margin": null,
       "max_height": null,
       "max_width": null,
       "min_height": null,
       "min_width": null,
       "object_fit": null,
       "object_position": null,
       "order": null,
       "overflow": null,
       "overflow_x": null,
       "overflow_y": null,
       "padding": null,
       "right": null,
       "top": null,
       "visibility": null,
       "width": null
      }
     },
     "ead587a723ab49818d5cc338b18a471c": {
      "model_module": "@jupyter-widgets/base",
      "model_module_version": "1.2.0",
      "model_name": "LayoutModel",
      "state": {
       "_model_module": "@jupyter-widgets/base",
       "_model_module_version": "1.2.0",
       "_model_name": "LayoutModel",
       "_view_count": null,
       "_view_module": "@jupyter-widgets/base",
       "_view_module_version": "1.2.0",
       "_view_name": "LayoutView",
       "align_content": null,
       "align_items": null,
       "align_self": null,
       "border": null,
       "bottom": null,
       "display": null,
       "flex": null,
       "flex_flow": null,
       "grid_area": null,
       "grid_auto_columns": null,
       "grid_auto_flow": null,
       "grid_auto_rows": null,
       "grid_column": null,
       "grid_gap": null,
       "grid_row": null,
       "grid_template_areas": null,
       "grid_template_columns": null,
       "grid_template_rows": null,
       "height": null,
       "justify_content": null,
       "justify_items": null,
       "left": null,
       "margin": null,
       "max_height": null,
       "max_width": null,
       "min_height": null,
       "min_width": null,
       "object_fit": null,
       "object_position": null,
       "order": null,
       "overflow": null,
       "overflow_x": null,
       "overflow_y": null,
       "padding": null,
       "right": null,
       "top": null,
       "visibility": null,
       "width": null
      }
     },
     "f20ace35ba3d41aabc2e0fc73243f797": {
      "model_module": "@jupyter-widgets/controls",
      "model_module_version": "1.5.0",
      "model_name": "ProgressStyleModel",
      "state": {
       "_model_module": "@jupyter-widgets/controls",
       "_model_module_version": "1.5.0",
       "_model_name": "ProgressStyleModel",
       "_view_count": null,
       "_view_module": "@jupyter-widgets/base",
       "_view_module_version": "1.2.0",
       "_view_name": "StyleView",
       "bar_color": null,
       "description_width": ""
      }
     },
     "f3ab3cf26fb44d1f8640a632c9a989c9": {
      "model_module": "@jupyter-widgets/base",
      "model_module_version": "1.2.0",
      "model_name": "LayoutModel",
      "state": {
       "_model_module": "@jupyter-widgets/base",
       "_model_module_version": "1.2.0",
       "_model_name": "LayoutModel",
       "_view_count": null,
       "_view_module": "@jupyter-widgets/base",
       "_view_module_version": "1.2.0",
       "_view_name": "LayoutView",
       "align_content": null,
       "align_items": null,
       "align_self": null,
       "border": null,
       "bottom": null,
       "display": null,
       "flex": null,
       "flex_flow": null,
       "grid_area": null,
       "grid_auto_columns": null,
       "grid_auto_flow": null,
       "grid_auto_rows": null,
       "grid_column": null,
       "grid_gap": null,
       "grid_row": null,
       "grid_template_areas": null,
       "grid_template_columns": null,
       "grid_template_rows": null,
       "height": null,
       "justify_content": null,
       "justify_items": null,
       "left": null,
       "margin": null,
       "max_height": null,
       "max_width": null,
       "min_height": null,
       "min_width": null,
       "object_fit": null,
       "object_position": null,
       "order": null,
       "overflow": null,
       "overflow_x": null,
       "overflow_y": null,
       "padding": null,
       "right": null,
       "top": null,
       "visibility": null,
       "width": null
      }
     },
     "f50d6b46ccec40ca82151a6b101924f3": {
      "model_module": "@jupyter-widgets/base",
      "model_module_version": "1.2.0",
      "model_name": "LayoutModel",
      "state": {
       "_model_module": "@jupyter-widgets/base",
       "_model_module_version": "1.2.0",
       "_model_name": "LayoutModel",
       "_view_count": null,
       "_view_module": "@jupyter-widgets/base",
       "_view_module_version": "1.2.0",
       "_view_name": "LayoutView",
       "align_content": null,
       "align_items": null,
       "align_self": null,
       "border": null,
       "bottom": null,
       "display": null,
       "flex": null,
       "flex_flow": null,
       "grid_area": null,
       "grid_auto_columns": null,
       "grid_auto_flow": null,
       "grid_auto_rows": null,
       "grid_column": null,
       "grid_gap": null,
       "grid_row": null,
       "grid_template_areas": null,
       "grid_template_columns": null,
       "grid_template_rows": null,
       "height": null,
       "justify_content": null,
       "justify_items": null,
       "left": null,
       "margin": null,
       "max_height": null,
       "max_width": null,
       "min_height": null,
       "min_width": null,
       "object_fit": null,
       "object_position": null,
       "order": null,
       "overflow": null,
       "overflow_x": null,
       "overflow_y": null,
       "padding": null,
       "right": null,
       "top": null,
       "visibility": null,
       "width": null
      }
     },
     "f7f1a41e92234480ac2d4bbecb873efa": {
      "model_module": "@jupyter-widgets/controls",
      "model_module_version": "1.5.0",
      "model_name": "HTMLModel",
      "state": {
       "_dom_classes": [],
       "_model_module": "@jupyter-widgets/controls",
       "_model_module_version": "1.5.0",
       "_model_name": "HTMLModel",
       "_view_count": null,
       "_view_module": "@jupyter-widgets/controls",
       "_view_module_version": "1.5.0",
       "_view_name": "HTMLView",
       "description": "",
       "description_tooltip": null,
       "layout": "IPY_MODEL_b686c9e983ba475c9a147f6621c7278d",
       "placeholder": "​",
       "style": "IPY_MODEL_a334028343104bea8f588ff9e5da2ce3",
       "value": "Downloading: 100%"
      }
     },
     "f9217fea00ee430d818f2abedb3e7e19": {
      "model_module": "@jupyter-widgets/controls",
      "model_module_version": "1.5.0",
      "model_name": "DescriptionStyleModel",
      "state": {
       "_model_module": "@jupyter-widgets/controls",
       "_model_module_version": "1.5.0",
       "_model_name": "DescriptionStyleModel",
       "_view_count": null,
       "_view_module": "@jupyter-widgets/base",
       "_view_module_version": "1.2.0",
       "_view_name": "StyleView",
       "description_width": ""
      }
     },
     "ffdb9c4fae204c3da799d3d010608f45": {
      "model_module": "@jupyter-widgets/controls",
      "model_module_version": "1.5.0",
      "model_name": "HTMLModel",
      "state": {
       "_dom_classes": [],
       "_model_module": "@jupyter-widgets/controls",
       "_model_module_version": "1.5.0",
       "_model_name": "HTMLModel",
       "_view_count": null,
       "_view_module": "@jupyter-widgets/controls",
       "_view_module_version": "1.5.0",
       "_view_name": "HTMLView",
       "description": "",
       "description_tooltip": null,
       "layout": "IPY_MODEL_4a1c518f19664d9e8b440130002dfcf6",
       "placeholder": "​",
       "style": "IPY_MODEL_9743b8e0afc54967964c730c12280636",
       "value": " 446k/446k [00:00&lt;00:00, 1.16MB/s]"
      }
     }
    },
    "version_major": 2,
    "version_minor": 0
   }
  }
 },
 "nbformat": 4,
 "nbformat_minor": 5
}
